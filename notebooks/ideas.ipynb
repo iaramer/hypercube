{
 "cells": [
  {
   "cell_type": "code",
   "execution_count": null,
   "metadata": {},
   "outputs": [],
   "source": []
  },
  {
   "cell_type": "markdown",
   "metadata": {},
   "source": [
    "## Self-reflection NN"
   ]
  },
  {
   "cell_type": "code",
   "execution_count": null,
   "metadata": {},
   "outputs": [],
   "source": [
    "class PairwiseAttention(nn.Module):\n",
    "    def __init__(self, input_size, output_size):\n",
    "        super(PairwiseAttention, self).__init__()\n",
    "        self.fc = nn.Linear(input_size, output_size)\n",
    "\n",
    "    def forward(self, x):\n",
    "        x1 = self.fc(x)\n",
    "        x = torch.mul(x, x1)\n",
    "        return x\n",
    "\n",
    "\n",
    "class FFNN(nn.Module):\n",
    "    def __init__(self, input_size, num_classes):\n",
    "        super(FFNN, self).__init__()\n",
    "        hidden_size = 1024\n",
    "        self.fc1 = PairwiseAttention(input_size, hidden_size)\n",
    "        self.fc4 = nn.Linear(hidden_size, num_classes)\n",
    "\n",
    "    def forward(self, x):\n",
    "        w = 10  # (?) Can make trainable with softmax over linear layer or multiplying sigm by 10\n",
    "        for i in range(1, w):\n",
    "            x = F.relu(self.fc1(x))\n",
    "        x = F.sigmoid(self.fc4(x))\n",
    "        return x\n",
    "\n",
    "input_size = N_FEATURES\n",
    "num_classes = 1\n",
    "\n",
    "model = FFNN(input_size, num_classes)\n",
    "\n",
    "print(f'The model has {count_parameters(model):,} trainable parameters')"
   ]
  },
  {
   "cell_type": "markdown",
   "metadata": {},
   "source": [
    "## MLP + embedding"
   ]
  },
  {
   "cell_type": "code",
   "execution_count": null,
   "metadata": {},
   "outputs": [],
   "source": [
    "class TextClassificationModel(nn.Module):\n",
    "    def __init__(self, vocab_size, embedding_dim, hidden_dim, output_dim):\n",
    "        super().__init__()\n",
    "        \n",
    "        # Embedding layer\n",
    "        self.embedding = nn.Embedding(vocab_size, embedding_dim)\n",
    "        \n",
    "        # Fully connected layer\n",
    "        self.fc = nn.Sequential(\n",
    "            nn.Linear(embedding_dim, hidden_dim),\n",
    "            nn.ReLU(),\n",
    "            nn.Linear(hidden_dim, output_dim)\n",
    "        )\n",
    "        \n",
    "    def forward(self, x):\n",
    "        x = self.embedding(x)\n",
    "        x = x.view(x.size(0), -1)  # Flatten the tensor\n",
    "        x = self.fc(x)\n",
    "        return x\n",
    "\n",
    "# Initialize the model\n",
    "vocab_size = len(vocab)\n",
    "embedding_dim = 100\n",
    "hidden_dim = 256\n",
    "output_dim = len(labels)\n",
    "model = TextClassificationModel(vocab_size, embedding_dim, hidden_dim, output_dim)\n"
   ]
  }
 ],
 "metadata": {
  "kernelspec": {
   "display_name": "Python 3.10.5 64-bit ('pytorch_1')",
   "language": "python",
   "name": "python3"
  },
  "language_info": {
   "name": "python",
   "version": "3.10.5"
  },
  "orig_nbformat": 4,
  "vscode": {
   "interpreter": {
    "hash": "d8d360e7c7d2a57b96b1fd1f3db2a7e7cffffe58fb2fb3aa8cedb08129f5b237"
   }
  }
 },
 "nbformat": 4,
 "nbformat_minor": 2
}
