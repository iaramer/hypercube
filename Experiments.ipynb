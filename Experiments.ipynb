{
  "cells": [
    {
      "cell_type": "markdown",
      "metadata": {
        "id": "VknXqtEovJjd"
      },
      "source": [
        "# Setup"
      ]
    },
    {
      "cell_type": "markdown",
      "metadata": {
        "id": "eu5gFZFSvKPA"
      },
      "source": [
        "## Imports"
      ]
    },
    {
      "cell_type": "code",
      "execution_count": 1,
      "metadata": {
        "id": "7dEeCU6_rGMm"
      },
      "outputs": [
        {
          "name": "stderr",
          "output_type": "stream",
          "text": [
            "c:\\Users\\yaram\\miniconda3\\envs\\pytorch_1\\lib\\site-packages\\tqdm\\auto.py:22: TqdmWarning: IProgress not found. Please update jupyter and ipywidgets. See https://ipywidgets.readthedocs.io/en/stable/user_install.html\n",
            "  from .autonotebook import tqdm as notebook_tqdm\n"
          ]
        }
      ],
      "source": [
        "import numpy as np\n",
        "from datasets import load_dataset\n",
        "import torch\n",
        "import torch.nn as nn\n",
        "import torch.optim as optim\n",
        "import torch.nn.functional as F\n",
        "from torch.utils.data import DataLoader, TensorDataset\n",
        "from sklearn.feature_extraction.text import TfidfVectorizer\n",
        "import dobbi\n",
        "import pandas as pd\n",
        "import re\n",
        "from sklearn.model_selection import train_test_split\n",
        "from sklearn.linear_model import LogisticRegression\n",
        "from sklearn.metrics import accuracy_score, f1_score\n",
        "import eli5\n",
        "import pytorch_lightning as pl\n",
        "import matplotlib.pyplot as plt\n",
        "import time\n",
        "import math\n",
        "from IPython.display import clear_output\n",
        "from tqdm import tqdm"
      ]
    },
    {
      "cell_type": "markdown",
      "metadata": {
        "id": "KwCbTmsnvqPs"
      },
      "source": [
        "## Constants"
      ]
    },
    {
      "cell_type": "code",
      "execution_count": 2,
      "metadata": {
        "id": "mM4KdBjQvN6F"
      },
      "outputs": [],
      "source": [
        "RANDOM_STATE = 42\n",
        "N_FEATURES = 2**10\n",
        "BATCH_SIZE = 31"
      ]
    },
    {
      "cell_type": "markdown",
      "metadata": {
        "id": "CMxLV3MRvU4V"
      },
      "source": [
        "## Functions"
      ]
    },
    {
      "cell_type": "code",
      "execution_count": 3,
      "metadata": {
        "id": "4oWBGb4YvWV-"
      },
      "outputs": [],
      "source": [
        "def replace_numbers(s):\n",
        "    return re.sub('\\d+', ' TOKEN_NUMBER ', s)\n",
        "    \n",
        "preprocess = dobbi.replace() \\\n",
        "    .url() \\\n",
        "    .html('') \\\n",
        "    .punctuation() \\\n",
        "    .whitespace() \\\n",
        "    .function()"
      ]
    },
    {
      "cell_type": "code",
      "execution_count": 4,
      "metadata": {},
      "outputs": [],
      "source": [
        "def count_parameters(model):\n",
        "    return sum(p.numel() for p in model.parameters() if p.requires_grad)"
      ]
    },
    {
      "cell_type": "code",
      "execution_count": 5,
      "metadata": {},
      "outputs": [],
      "source": [
        "def train(model, iterator, optimizer, criterion, clip, train_history=None, valid_history=None, n_step=100):\n",
        "    model.train()\n",
        "    epoch_loss = 0\n",
        "    history = []\n",
        "    for i, batch in enumerate(iterator):\n",
        "        X = batch[0]\n",
        "        y = batch[1]\n",
        "        optimizer.zero_grad()\n",
        "\n",
        "        output = model(X).view(-1)\n",
        "        loss = criterion(output, y)\n",
        "        loss.backward()\n",
        "\n",
        "        torch.nn.utils.clip_grad_norm_(model.parameters(), clip)\n",
        "        optimizer.step()\n",
        "        epoch_loss += loss.item()\n",
        "\n",
        "        history.append(loss.cpu().data.numpy())\n",
        "        if (i+1)%n_step==0:\n",
        "            fig, ax = plt.subplots(nrows=1, ncols=2, figsize=(12, 8))\n",
        "\n",
        "            clear_output(True)\n",
        "            ax[0].plot(history, label='train loss')\n",
        "            ax[0].set_xlabel('Batch')\n",
        "            ax[0].set_title('Train loss')\n",
        "            if train_history is not None:\n",
        "                ax[1].plot(train_history, label='general train history')\n",
        "                ax[1].set_xlabel('Epoch')\n",
        "            if valid_history is not None:\n",
        "                ax[1].plot(valid_history, label='general valid history')\n",
        "            plt.legend()\n",
        "            plt.show()\n",
        "    return epoch_loss / len(iterator)"
      ]
    },
    {
      "cell_type": "code",
      "execution_count": 6,
      "metadata": {},
      "outputs": [],
      "source": [
        "def evaluate(model, iterator, criterion):\n",
        "    model.eval()\n",
        "    epoch_loss = 0\n",
        "    with torch.no_grad():\n",
        "        for i, batch in enumerate(iterator):\n",
        "            X = batch[0]\n",
        "            y = batch[1]\n",
        "            output = model(X).view(-1)\n",
        "            loss = criterion(output, y)\n",
        "            epoch_loss += loss.item()\n",
        "    return epoch_loss / len(iterator)"
      ]
    },
    {
      "cell_type": "code",
      "execution_count": 7,
      "metadata": {},
      "outputs": [],
      "source": [
        "def epoch_time(start_time, end_time):\n",
        "    elapsed_time = end_time - start_time\n",
        "    elapsed_mins = int(elapsed_time / 60)\n",
        "    elapsed_secs = int(elapsed_time - (elapsed_mins * 60))\n",
        "    return elapsed_mins, elapsed_secs"
      ]
    },
    {
      "cell_type": "code",
      "execution_count": 8,
      "metadata": {},
      "outputs": [],
      "source": [
        "def predict(model, iterator):\n",
        "    model.eval()\n",
        "    y_true = []\n",
        "    y_pred = []\n",
        "    with torch.no_grad():\n",
        "        for i, batch in enumerate(iterator):\n",
        "            X = batch[0]\n",
        "            y = batch[1]\n",
        "            output = model(X).view(-1)\n",
        "            y_pred += output.cpu().numpy().tolist()\n",
        "            y_true += y.cpu().numpy().tolist()\n",
        "    return y_true, y_pred"
      ]
    },
    {
      "cell_type": "markdown",
      "metadata": {
        "id": "zU0-OWMmwEtv"
      },
      "source": [
        "# Data"
      ]
    },
    {
      "cell_type": "markdown",
      "metadata": {},
      "source": [
        "## Load"
      ]
    },
    {
      "cell_type": "code",
      "execution_count": 9,
      "metadata": {
        "id": "xt_RYZ9swHuj"
      },
      "outputs": [
        {
          "name": "stderr",
          "output_type": "stream",
          "text": [
            "Found cached dataset imdb (C:/Users/yaram/.cache/huggingface/datasets/imdb/plain_text/1.0.0/2fdd8b9bcadd6e7055e742a706876ba43f19faee861df134affd7a3f60fc38a1)\n",
            "100%|██████████| 3/3 [00:00<00:00, 20.86it/s]\n"
          ]
        }
      ],
      "source": [
        "IMDB_DATASET = load_dataset('imdb')"
      ]
    },
    {
      "cell_type": "code",
      "execution_count": 10,
      "metadata": {},
      "outputs": [
        {
          "data": {
            "text/plain": [
              "DatasetDict({\n",
              "    train: Dataset({\n",
              "        features: ['text', 'label'],\n",
              "        num_rows: 25000\n",
              "    })\n",
              "    test: Dataset({\n",
              "        features: ['text', 'label'],\n",
              "        num_rows: 25000\n",
              "    })\n",
              "    unsupervised: Dataset({\n",
              "        features: ['text', 'label'],\n",
              "        num_rows: 50000\n",
              "    })\n",
              "})"
            ]
          },
          "execution_count": 10,
          "metadata": {},
          "output_type": "execute_result"
        }
      ],
      "source": [
        "IMDB_DATASET"
      ]
    },
    {
      "cell_type": "code",
      "execution_count": 11,
      "metadata": {},
      "outputs": [
        {
          "data": {
            "text/plain": [
              "{'text': 'I rented I AM CURIOUS-YELLOW from my video store because of all the controversy that surrounded it when it was first released in 1967. I also heard that at first it was seized by U.S. customs if it ever tried to enter this country, therefore being a fan of films considered \"controversial\" I really had to see this for myself.<br /><br />The plot is centered around a young Swedish drama student named Lena who wants to learn everything she can about life. In particular she wants to focus her attentions to making some sort of documentary on what the average Swede thought about certain political issues such as the Vietnam War and race issues in the United States. In between asking politicians and ordinary denizens of Stockholm about their opinions on politics, she has sex with her drama teacher, classmates, and married men.<br /><br />What kills me about I AM CURIOUS-YELLOW is that 40 years ago, this was considered pornographic. Really, the sex and nudity scenes are few and far between, even then it\\'s not shot like some cheaply made porno. While my countrymen mind find it shocking, in reality sex and nudity are a major staple in Swedish cinema. Even Ingmar Bergman, arguably their answer to good old boy John Ford, had sex scenes in his films.<br /><br />I do commend the filmmakers for the fact that any sex shown in the film is shown for artistic purposes rather than just to shock people and make money to be shown in pornographic theaters in America. I AM CURIOUS-YELLOW is a good film for anyone wanting to study the meat and potatoes (no pun intended) of Swedish cinema. But really, this film doesn\\'t have much of a plot.',\n",
              " 'label': 0}"
            ]
          },
          "execution_count": 11,
          "metadata": {},
          "output_type": "execute_result"
        }
      ],
      "source": [
        "IMDB_DATASET['train'][0]"
      ]
    },
    {
      "cell_type": "code",
      "execution_count": 12,
      "metadata": {},
      "outputs": [],
      "source": [
        "df_train = pd.DataFrame(IMDB_DATASET['train']).copy()\n",
        "df_train, df_val = train_test_split(df_train, test_size=0.2, \n",
        "    random_state=RANDOM_STATE, stratify=df_train['label'])\n",
        "\n",
        "df_test = pd.DataFrame(IMDB_DATASET['test']).copy()"
      ]
    },
    {
      "cell_type": "code",
      "execution_count": 13,
      "metadata": {},
      "outputs": [
        {
          "data": {
            "text/html": [
              "<div>\n",
              "<style scoped>\n",
              "    .dataframe tbody tr th:only-of-type {\n",
              "        vertical-align: middle;\n",
              "    }\n",
              "\n",
              "    .dataframe tbody tr th {\n",
              "        vertical-align: top;\n",
              "    }\n",
              "\n",
              "    .dataframe thead th {\n",
              "        text-align: right;\n",
              "    }\n",
              "</style>\n",
              "<table border=\"1\" class=\"dataframe\">\n",
              "  <thead>\n",
              "    <tr style=\"text-align: right;\">\n",
              "      <th></th>\n",
              "      <th>text</th>\n",
              "      <th>label</th>\n",
              "    </tr>\n",
              "  </thead>\n",
              "  <tbody>\n",
              "    <tr>\n",
              "      <th>20022</th>\n",
              "      <td>I have always been a huge James Bond fanatic! ...</td>\n",
              "      <td>1</td>\n",
              "    </tr>\n",
              "    <tr>\n",
              "      <th>4993</th>\n",
              "      <td>I am a Christian and I say this movie had terr...</td>\n",
              "      <td>0</td>\n",
              "    </tr>\n",
              "    <tr>\n",
              "      <th>24760</th>\n",
              "      <td>Neatly sandwiched between THE STRANGER, a smal...</td>\n",
              "      <td>1</td>\n",
              "    </tr>\n",
              "    <tr>\n",
              "      <th>13775</th>\n",
              "      <td>Years ago I did follow a soap on TV. So I was ...</td>\n",
              "      <td>1</td>\n",
              "    </tr>\n",
              "    <tr>\n",
              "      <th>20504</th>\n",
              "      <td>Here's a gritty, get-the-bad guys revenge stor...</td>\n",
              "      <td>1</td>\n",
              "    </tr>\n",
              "    <tr>\n",
              "      <th>...</th>\n",
              "      <td>...</td>\n",
              "      <td>...</td>\n",
              "    </tr>\n",
              "    <tr>\n",
              "      <th>22580</th>\n",
              "      <td>Popular radio storyteller Gabriel No one(Robin...</td>\n",
              "      <td>1</td>\n",
              "    </tr>\n",
              "    <tr>\n",
              "      <th>20473</th>\n",
              "      <td>Throughout this film, you might think this fil...</td>\n",
              "      <td>1</td>\n",
              "    </tr>\n",
              "    <tr>\n",
              "      <th>10468</th>\n",
              "      <td>Quite what the producers of this appalling ada...</td>\n",
              "      <td>0</td>\n",
              "    </tr>\n",
              "    <tr>\n",
              "      <th>5163</th>\n",
              "      <td>\"Trigger Man\" is definitely the most boring an...</td>\n",
              "      <td>0</td>\n",
              "    </tr>\n",
              "    <tr>\n",
              "      <th>23394</th>\n",
              "      <td>This movie is a Gem because it moves with soft...</td>\n",
              "      <td>1</td>\n",
              "    </tr>\n",
              "  </tbody>\n",
              "</table>\n",
              "<p>20000 rows × 2 columns</p>\n",
              "</div>"
            ],
            "text/plain": [
              "                                                    text  label\n",
              "20022  I have always been a huge James Bond fanatic! ...      1\n",
              "4993   I am a Christian and I say this movie had terr...      0\n",
              "24760  Neatly sandwiched between THE STRANGER, a smal...      1\n",
              "13775  Years ago I did follow a soap on TV. So I was ...      1\n",
              "20504  Here's a gritty, get-the-bad guys revenge stor...      1\n",
              "...                                                  ...    ...\n",
              "22580  Popular radio storyteller Gabriel No one(Robin...      1\n",
              "20473  Throughout this film, you might think this fil...      1\n",
              "10468  Quite what the producers of this appalling ada...      0\n",
              "5163   \"Trigger Man\" is definitely the most boring an...      0\n",
              "23394  This movie is a Gem because it moves with soft...      1\n",
              "\n",
              "[20000 rows x 2 columns]"
            ]
          },
          "execution_count": 13,
          "metadata": {},
          "output_type": "execute_result"
        }
      ],
      "source": [
        "df_train"
      ]
    },
    {
      "cell_type": "markdown",
      "metadata": {},
      "source": [
        "## Preprocess"
      ]
    },
    {
      "cell_type": "code",
      "execution_count": 14,
      "metadata": {},
      "outputs": [],
      "source": [
        "df_train['text'] = df_train['text'].str.lower()\n",
        "df_train['text'] = df_train['text'].apply(replace_numbers)\n",
        "df_train['text'] = df_train['text'].apply(preprocess)"
      ]
    },
    {
      "cell_type": "code",
      "execution_count": 15,
      "metadata": {},
      "outputs": [],
      "source": [
        "df_val['text'] = df_val['text'].str.lower()\n",
        "df_val['text'] = df_val['text'].apply(replace_numbers)\n",
        "df_val['text'] = df_val['text'].apply(preprocess)"
      ]
    },
    {
      "cell_type": "code",
      "execution_count": 16,
      "metadata": {},
      "outputs": [],
      "source": [
        "df_test['text'] = df_test['text'].str.lower()\n",
        "df_test['text'] = df_test['text'].apply(replace_numbers)\n",
        "df_test['text'] = df_test['text'].apply(preprocess)"
      ]
    },
    {
      "cell_type": "code",
      "execution_count": 17,
      "metadata": {},
      "outputs": [
        {
          "data": {
            "text/plain": [
              "'i have always been a huge james bond fanatic i have seen almost all of the films except for die another day and the world is not enough the graphic s for everything or nothing are breathtaking the voice talents wow i love pierce brosnan he is finally bond in a video game he is bond i enjoyed the past bond games goldeneye the world is not enough agent under fire and nightfire this one is definitely the best finally mr brosnan may i call him mr brosnan as a sign of respect yes i can he was phenomenally exciting to hear in a video game at long last duh i ve seen him perform with robin williams and let me tell you they make a great team pierce brosnan is funny wickedly handsome i mean to say wickedly in a good way and just one of those actor s who you would want to walk up to and wrap your arms around and hug saying pierce brosnan thank you for being james bond if it wasn t for you i wouldn t know who james bond is he s a great actor i am a huge fan of willem dafoe even though i ve seen him in a couple of movies his role as nikolai diavalo was brilliant did i spell the character s name right lol he does a great job with an accent sometimes i can t even hear an accent i have seen willem i mean mr dafoe perform in two movies finding nemo and spider man with my favorite actress kirsten dunst she rocks anyway he never ceases to amaze and richard kiel wow he s definitely got the part of jaw s nailed i ve seen him in the movie s and he s awesome as a matter of fact my grandparent s have met mr kiel and i was jealous when they told me but kirsten dunst is at the top of my list of celebritie s that i want to meet john cleese was breathtaking i have never seen a better person play as the wisecracking and gadget creating q mr cleese was hilarious i ve seen him work with pierce brosnan in goldeneye and tommorow never dies he s awesome john cleese s most recent project is shrek TOKEN_NUMBER starring mike myer s cameron diaz julie andrew s and eddie murphy shrek TOKEN_NUMBER is now in theatre s good luck TOKEN_NUMBER oh yeah and as q alway s says grow up TOKEN_NUMBER'"
            ]
          },
          "execution_count": 17,
          "metadata": {},
          "output_type": "execute_result"
        }
      ],
      "source": [
        "df_train.iloc[0]['text']"
      ]
    },
    {
      "cell_type": "markdown",
      "metadata": {},
      "source": [
        "## Vectorize"
      ]
    },
    {
      "cell_type": "code",
      "execution_count": 18,
      "metadata": {},
      "outputs": [],
      "source": [
        "vectorizer = TfidfVectorizer(stop_words='english', ngram_range=(1, 3), lowercase=True, max_features=N_FEATURES)"
      ]
    },
    {
      "cell_type": "code",
      "execution_count": 19,
      "metadata": {},
      "outputs": [
        {
          "name": "stdout",
          "output_type": "stream",
          "text": [
            "CPU times: total: 28.8 s\n",
            "Wall time: 28.9 s\n"
          ]
        }
      ],
      "source": [
        "%%time\n",
        "X_train_text = vectorizer.fit_transform(df_train['text'])\n",
        "X_val_text = vectorizer.transform(df_val['text'])\n",
        "X_test_text = vectorizer.transform(df_test['text'])\n"
      ]
    },
    {
      "cell_type": "code",
      "execution_count": 20,
      "metadata": {},
      "outputs": [
        {
          "data": {
            "text/plain": [
              "1024"
            ]
          },
          "execution_count": 20,
          "metadata": {},
          "output_type": "execute_result"
        }
      ],
      "source": [
        "len(vectorizer.get_feature_names_out())"
      ]
    },
    {
      "cell_type": "markdown",
      "metadata": {},
      "source": [
        "## ToTensor"
      ]
    },
    {
      "cell_type": "code",
      "execution_count": 21,
      "metadata": {},
      "outputs": [
        {
          "name": "stdout",
          "output_type": "stream",
          "text": [
            "CPU times: total: 969 ms\n",
            "Wall time: 211 ms\n"
          ]
        }
      ],
      "source": [
        "%%time\n",
        "\n",
        "# convert the data to torch tensors\n",
        "train_inputs = torch.tensor(X_train_text.toarray(), dtype=torch.float32)\n",
        "train_labels = torch.tensor(df_train['label'].to_numpy(), dtype=torch.float32)\n",
        "valid_inputs = torch.tensor(X_val_text.toarray(), dtype=torch.float32)\n",
        "valid_labels = torch.tensor(df_val['label'].to_numpy(), dtype=torch.float32)\n",
        "test_inputs = torch.tensor(X_test_text.toarray(), dtype=torch.float32)\n",
        "test_labels = torch.tensor(df_test['label'].to_numpy(), dtype=torch.float32)\n",
        "\n",
        "# create TensorDataset\n",
        "train_dataset = TensorDataset(train_inputs, train_labels)\n",
        "valid_dataset = TensorDataset(valid_inputs, valid_labels)\n",
        "test_dataset = TensorDataset(test_inputs, test_labels)\n",
        "\n",
        "# create dataloader\n",
        "train_dataloader = DataLoader(train_dataset, batch_size=BATCH_SIZE, shuffle=True)\n",
        "valid_dataloader = DataLoader(valid_dataset, batch_size=BATCH_SIZE, shuffle=True)\n",
        "test_dataloader = DataLoader(test_dataset, batch_size=BATCH_SIZE, shuffle=False)\n",
        "\n",
        "loaders = {\n",
        "    \"train\": train_dataloader,\n",
        "    \"val\": valid_dataloader,\n",
        "}"
      ]
    },
    {
      "cell_type": "markdown",
      "metadata": {},
      "source": [
        "# Model"
      ]
    },
    {
      "cell_type": "markdown",
      "metadata": {},
      "source": [
        "## Baseline 1 - LogReg"
      ]
    },
    {
      "cell_type": "code",
      "execution_count": 22,
      "metadata": {},
      "outputs": [],
      "source": [
        "logreg = LogisticRegression(random_state=RANDOM_STATE, n_jobs=4)"
      ]
    },
    {
      "cell_type": "code",
      "execution_count": 23,
      "metadata": {},
      "outputs": [
        {
          "name": "stdout",
          "output_type": "stream",
          "text": [
            "CPU times: total: 328 ms\n",
            "Wall time: 1.94 s\n"
          ]
        },
        {
          "data": {
            "text/html": [
              "<style>#sk-container-id-1 {color: black;background-color: white;}#sk-container-id-1 pre{padding: 0;}#sk-container-id-1 div.sk-toggleable {background-color: white;}#sk-container-id-1 label.sk-toggleable__label {cursor: pointer;display: block;width: 100%;margin-bottom: 0;padding: 0.3em;box-sizing: border-box;text-align: center;}#sk-container-id-1 label.sk-toggleable__label-arrow:before {content: \"▸\";float: left;margin-right: 0.25em;color: #696969;}#sk-container-id-1 label.sk-toggleable__label-arrow:hover:before {color: black;}#sk-container-id-1 div.sk-estimator:hover label.sk-toggleable__label-arrow:before {color: black;}#sk-container-id-1 div.sk-toggleable__content {max-height: 0;max-width: 0;overflow: hidden;text-align: left;background-color: #f0f8ff;}#sk-container-id-1 div.sk-toggleable__content pre {margin: 0.2em;color: black;border-radius: 0.25em;background-color: #f0f8ff;}#sk-container-id-1 input.sk-toggleable__control:checked~div.sk-toggleable__content {max-height: 200px;max-width: 100%;overflow: auto;}#sk-container-id-1 input.sk-toggleable__control:checked~label.sk-toggleable__label-arrow:before {content: \"▾\";}#sk-container-id-1 div.sk-estimator input.sk-toggleable__control:checked~label.sk-toggleable__label {background-color: #d4ebff;}#sk-container-id-1 div.sk-label input.sk-toggleable__control:checked~label.sk-toggleable__label {background-color: #d4ebff;}#sk-container-id-1 input.sk-hidden--visually {border: 0;clip: rect(1px 1px 1px 1px);clip: rect(1px, 1px, 1px, 1px);height: 1px;margin: -1px;overflow: hidden;padding: 0;position: absolute;width: 1px;}#sk-container-id-1 div.sk-estimator {font-family: monospace;background-color: #f0f8ff;border: 1px dotted black;border-radius: 0.25em;box-sizing: border-box;margin-bottom: 0.5em;}#sk-container-id-1 div.sk-estimator:hover {background-color: #d4ebff;}#sk-container-id-1 div.sk-parallel-item::after {content: \"\";width: 100%;border-bottom: 1px solid gray;flex-grow: 1;}#sk-container-id-1 div.sk-label:hover label.sk-toggleable__label {background-color: #d4ebff;}#sk-container-id-1 div.sk-serial::before {content: \"\";position: absolute;border-left: 1px solid gray;box-sizing: border-box;top: 0;bottom: 0;left: 50%;z-index: 0;}#sk-container-id-1 div.sk-serial {display: flex;flex-direction: column;align-items: center;background-color: white;padding-right: 0.2em;padding-left: 0.2em;position: relative;}#sk-container-id-1 div.sk-item {position: relative;z-index: 1;}#sk-container-id-1 div.sk-parallel {display: flex;align-items: stretch;justify-content: center;background-color: white;position: relative;}#sk-container-id-1 div.sk-item::before, #sk-container-id-1 div.sk-parallel-item::before {content: \"\";position: absolute;border-left: 1px solid gray;box-sizing: border-box;top: 0;bottom: 0;left: 50%;z-index: -1;}#sk-container-id-1 div.sk-parallel-item {display: flex;flex-direction: column;z-index: 1;position: relative;background-color: white;}#sk-container-id-1 div.sk-parallel-item:first-child::after {align-self: flex-end;width: 50%;}#sk-container-id-1 div.sk-parallel-item:last-child::after {align-self: flex-start;width: 50%;}#sk-container-id-1 div.sk-parallel-item:only-child::after {width: 0;}#sk-container-id-1 div.sk-dashed-wrapped {border: 1px dashed gray;margin: 0 0.4em 0.5em 0.4em;box-sizing: border-box;padding-bottom: 0.4em;background-color: white;}#sk-container-id-1 div.sk-label label {font-family: monospace;font-weight: bold;display: inline-block;line-height: 1.2em;}#sk-container-id-1 div.sk-label-container {text-align: center;}#sk-container-id-1 div.sk-container {/* jupyter's `normalize.less` sets `[hidden] { display: none; }` but bootstrap.min.css set `[hidden] { display: none !important; }` so we also need the `!important` here to be able to override the default hidden behavior on the sphinx rendered scikit-learn.org. See: https://github.com/scikit-learn/scikit-learn/issues/21755 */display: inline-block !important;position: relative;}#sk-container-id-1 div.sk-text-repr-fallback {display: none;}</style><div id=\"sk-container-id-1\" class=\"sk-top-container\"><div class=\"sk-text-repr-fallback\"><pre>LogisticRegression(n_jobs=4, random_state=42)</pre><b>In a Jupyter environment, please rerun this cell to show the HTML representation or trust the notebook. <br />On GitHub, the HTML representation is unable to render, please try loading this page with nbviewer.org.</b></div><div class=\"sk-container\" hidden><div class=\"sk-item\"><div class=\"sk-estimator sk-toggleable\"><input class=\"sk-toggleable__control sk-hidden--visually\" id=\"sk-estimator-id-1\" type=\"checkbox\" checked><label for=\"sk-estimator-id-1\" class=\"sk-toggleable__label sk-toggleable__label-arrow\">LogisticRegression</label><div class=\"sk-toggleable__content\"><pre>LogisticRegression(n_jobs=4, random_state=42)</pre></div></div></div></div></div>"
            ],
            "text/plain": [
              "LogisticRegression(n_jobs=4, random_state=42)"
            ]
          },
          "execution_count": 23,
          "metadata": {},
          "output_type": "execute_result"
        }
      ],
      "source": [
        "%%time\n",
        "logreg.fit(X_train_text, df_train['label'])"
      ]
    },
    {
      "cell_type": "code",
      "execution_count": 24,
      "metadata": {},
      "outputs": [
        {
          "data": {
            "text/html": [
              "\n",
              "    <style>\n",
              "    table.eli5-weights tr:hover {\n",
              "        filter: brightness(85%);\n",
              "    }\n",
              "</style>\n",
              "\n",
              "\n",
              "\n",
              "    \n",
              "\n",
              "    \n",
              "\n",
              "    \n",
              "\n",
              "    \n",
              "\n",
              "    \n",
              "\n",
              "    \n",
              "\n",
              "\n",
              "    \n",
              "\n",
              "    \n",
              "\n",
              "    \n",
              "\n",
              "    \n",
              "        \n",
              "\n",
              "    \n",
              "\n",
              "        \n",
              "            \n",
              "                \n",
              "                \n",
              "    \n",
              "        <p style=\"margin-bottom: 0.5em; margin-top: 0em\">\n",
              "            <b>\n",
              "    \n",
              "        y=1\n",
              "    \n",
              "</b>\n",
              "\n",
              "top features\n",
              "        </p>\n",
              "    \n",
              "    <table class=\"eli5-weights\"\n",
              "           style=\"border-collapse: collapse; border: none; margin-top: 0em; table-layout: auto; margin-bottom: 2em;\">\n",
              "        <thead>\n",
              "        <tr style=\"border: none;\">\n",
              "            \n",
              "                <th style=\"padding: 0 1em 0 0.5em; text-align: right; border: none;\" title=\"Feature weights. Note that weights do not account for feature value scales, so if feature values have different scales, features with highest weights might not be the most important.\">\n",
              "                    Weight<sup>?</sup>\n",
              "                </th>\n",
              "            \n",
              "            <th style=\"padding: 0 0.5em 0 0.5em; text-align: left; border: none;\">Feature</th>\n",
              "            \n",
              "        </tr>\n",
              "        </thead>\n",
              "        <tbody>\n",
              "        \n",
              "            <tr style=\"background-color: hsl(120, 100.00%, 84.70%); border: none;\">\n",
              "    <td style=\"padding: 0 1em 0 0.5em; text-align: right; border: none;\">\n",
              "        +5.693\n",
              "    </td>\n",
              "    <td style=\"padding: 0 0.5em 0 0.5em; text-align: left; border: none;\">\n",
              "        excellent\n",
              "    </td>\n",
              "    \n",
              "</tr>\n",
              "        \n",
              "            <tr style=\"background-color: hsl(120, 100.00%, 85.44%); border: none;\">\n",
              "    <td style=\"padding: 0 1em 0 0.5em; text-align: right; border: none;\">\n",
              "        +5.305\n",
              "    </td>\n",
              "    <td style=\"padding: 0 0.5em 0 0.5em; text-align: left; border: none;\">\n",
              "        great\n",
              "    </td>\n",
              "    \n",
              "</tr>\n",
              "        \n",
              "            <tr style=\"background-color: hsl(120, 100.00%, 86.65%); border: none;\">\n",
              "    <td style=\"padding: 0 1em 0 0.5em; text-align: right; border: none;\">\n",
              "        +4.685\n",
              "    </td>\n",
              "    <td style=\"padding: 0 0.5em 0 0.5em; text-align: left; border: none;\">\n",
              "        best\n",
              "    </td>\n",
              "    \n",
              "</tr>\n",
              "        \n",
              "            <tr style=\"background-color: hsl(120, 100.00%, 86.82%); border: none;\">\n",
              "    <td style=\"padding: 0 1em 0 0.5em; text-align: right; border: none;\">\n",
              "        +4.598\n",
              "    </td>\n",
              "    <td style=\"padding: 0 0.5em 0 0.5em; text-align: left; border: none;\">\n",
              "        perfect\n",
              "    </td>\n",
              "    \n",
              "</tr>\n",
              "        \n",
              "            <tr style=\"background-color: hsl(120, 100.00%, 87.18%); border: none;\">\n",
              "    <td style=\"padding: 0 1em 0 0.5em; text-align: right; border: none;\">\n",
              "        +4.421\n",
              "    </td>\n",
              "    <td style=\"padding: 0 0.5em 0 0.5em; text-align: left; border: none;\">\n",
              "        wonderful\n",
              "    </td>\n",
              "    \n",
              "</tr>\n",
              "        \n",
              "            <tr style=\"background-color: hsl(120, 100.00%, 87.49%); border: none;\">\n",
              "    <td style=\"padding: 0 1em 0 0.5em; text-align: right; border: none;\">\n",
              "        +4.271\n",
              "    </td>\n",
              "    <td style=\"padding: 0 0.5em 0 0.5em; text-align: left; border: none;\">\n",
              "        amazing\n",
              "    </td>\n",
              "    \n",
              "</tr>\n",
              "        \n",
              "            <tr style=\"background-color: hsl(120, 100.00%, 88.35%); border: none;\">\n",
              "    <td style=\"padding: 0 1em 0 0.5em; text-align: right; border: none;\">\n",
              "        +3.859\n",
              "    </td>\n",
              "    <td style=\"padding: 0 0.5em 0 0.5em; text-align: left; border: none;\">\n",
              "        favorite\n",
              "    </td>\n",
              "    \n",
              "</tr>\n",
              "        \n",
              "            <tr style=\"background-color: hsl(120, 100.00%, 89.35%); border: none;\">\n",
              "    <td style=\"padding: 0 1em 0 0.5em; text-align: right; border: none;\">\n",
              "        +3.393\n",
              "    </td>\n",
              "    <td style=\"padding: 0 0.5em 0 0.5em; text-align: left; border: none;\">\n",
              "        brilliant\n",
              "    </td>\n",
              "    \n",
              "</tr>\n",
              "        \n",
              "            <tr style=\"background-color: hsl(120, 100.00%, 89.38%); border: none;\">\n",
              "    <td style=\"padding: 0 1em 0 0.5em; text-align: right; border: none;\">\n",
              "        +3.379\n",
              "    </td>\n",
              "    <td style=\"padding: 0 0.5em 0 0.5em; text-align: left; border: none;\">\n",
              "        loved\n",
              "    </td>\n",
              "    \n",
              "</tr>\n",
              "        \n",
              "            <tr style=\"background-color: hsl(120, 100.00%, 89.47%); border: none;\">\n",
              "    <td style=\"padding: 0 1em 0 0.5em; text-align: right; border: none;\">\n",
              "        +3.337\n",
              "    </td>\n",
              "    <td style=\"padding: 0 0.5em 0 0.5em; text-align: left; border: none;\">\n",
              "        perfectly\n",
              "    </td>\n",
              "    \n",
              "</tr>\n",
              "        \n",
              "            <tr style=\"background-color: hsl(120, 100.00%, 89.93%); border: none;\">\n",
              "    <td style=\"padding: 0 1em 0 0.5em; text-align: right; border: none;\">\n",
              "        +3.131\n",
              "    </td>\n",
              "    <td style=\"padding: 0 0.5em 0 0.5em; text-align: left; border: none;\">\n",
              "        today\n",
              "    </td>\n",
              "    \n",
              "</tr>\n",
              "        \n",
              "            <tr style=\"background-color: hsl(120, 100.00%, 89.98%); border: none;\">\n",
              "    <td style=\"padding: 0 1em 0 0.5em; text-align: right; border: none;\">\n",
              "        +3.108\n",
              "    </td>\n",
              "    <td style=\"padding: 0 0.5em 0 0.5em; text-align: left; border: none;\">\n",
              "        superb\n",
              "    </td>\n",
              "    \n",
              "</tr>\n",
              "        \n",
              "            <tr style=\"background-color: hsl(120, 100.00%, 90.09%); border: none;\">\n",
              "    <td style=\"padding: 0 1em 0 0.5em; text-align: right; border: none;\">\n",
              "        +3.061\n",
              "    </td>\n",
              "    <td style=\"padding: 0 0.5em 0 0.5em; text-align: left; border: none;\">\n",
              "        love\n",
              "    </td>\n",
              "    \n",
              "</tr>\n",
              "        \n",
              "            <tr style=\"background-color: hsl(120, 100.00%, 90.18%); border: none;\">\n",
              "    <td style=\"padding: 0 1em 0 0.5em; text-align: right; border: none;\">\n",
              "        +3.021\n",
              "    </td>\n",
              "    <td style=\"padding: 0 0.5em 0 0.5em; text-align: left; border: none;\">\n",
              "        fantastic\n",
              "    </td>\n",
              "    \n",
              "</tr>\n",
              "        \n",
              "            <tr style=\"background-color: hsl(120, 100.00%, 90.32%); border: none;\">\n",
              "    <td style=\"padding: 0 1em 0 0.5em; text-align: right; border: none;\">\n",
              "        +2.961\n",
              "    </td>\n",
              "    <td style=\"padding: 0 0.5em 0 0.5em; text-align: left; border: none;\">\n",
              "        hilarious\n",
              "    </td>\n",
              "    \n",
              "</tr>\n",
              "        \n",
              "        \n",
              "            <tr style=\"background-color: hsl(120, 100.00%, 90.32%); border: none;\">\n",
              "                <td colspan=\"2\" style=\"padding: 0 0.5em 0 0.5em; text-align: center; border: none; white-space: nowrap;\">\n",
              "                    <i>&hellip; 505 more positive &hellip;</i>\n",
              "                </td>\n",
              "            </tr>\n",
              "        \n",
              "\n",
              "        \n",
              "            <tr style=\"background-color: hsl(0, 100.00%, 87.28%); border: none;\">\n",
              "                <td colspan=\"2\" style=\"padding: 0 0.5em 0 0.5em; text-align: center; border: none; white-space: nowrap;\">\n",
              "                    <i>&hellip; 495 more negative &hellip;</i>\n",
              "                </td>\n",
              "            </tr>\n",
              "        \n",
              "        \n",
              "            <tr style=\"background-color: hsl(0, 100.00%, 87.28%); border: none;\">\n",
              "    <td style=\"padding: 0 1em 0 0.5em; text-align: right; border: none;\">\n",
              "        -4.371\n",
              "    </td>\n",
              "    <td style=\"padding: 0 0.5em 0 0.5em; text-align: left; border: none;\">\n",
              "        terrible\n",
              "    </td>\n",
              "    \n",
              "</tr>\n",
              "        \n",
              "            <tr style=\"background-color: hsl(0, 100.00%, 87.27%); border: none;\">\n",
              "    <td style=\"padding: 0 1em 0 0.5em; text-align: right; border: none;\">\n",
              "        -4.375\n",
              "    </td>\n",
              "    <td style=\"padding: 0 0.5em 0 0.5em; text-align: left; border: none;\">\n",
              "        dull\n",
              "    </td>\n",
              "    \n",
              "</tr>\n",
              "        \n",
              "            <tr style=\"background-color: hsl(0, 100.00%, 87.02%); border: none;\">\n",
              "    <td style=\"padding: 0 1em 0 0.5em; text-align: right; border: none;\">\n",
              "        -4.499\n",
              "    </td>\n",
              "    <td style=\"padding: 0 0.5em 0 0.5em; text-align: left; border: none;\">\n",
              "        worse\n",
              "    </td>\n",
              "    \n",
              "</tr>\n",
              "        \n",
              "            <tr style=\"background-color: hsl(0, 100.00%, 86.70%); border: none;\">\n",
              "    <td style=\"padding: 0 1em 0 0.5em; text-align: right; border: none;\">\n",
              "        -4.658\n",
              "    </td>\n",
              "    <td style=\"padding: 0 0.5em 0 0.5em; text-align: left; border: none;\">\n",
              "        poorly\n",
              "    </td>\n",
              "    \n",
              "</tr>\n",
              "        \n",
              "            <tr style=\"background-color: hsl(0, 100.00%, 86.30%); border: none;\">\n",
              "    <td style=\"padding: 0 1em 0 0.5em; text-align: right; border: none;\">\n",
              "        -4.861\n",
              "    </td>\n",
              "    <td style=\"padding: 0 0.5em 0 0.5em; text-align: left; border: none;\">\n",
              "        poor\n",
              "    </td>\n",
              "    \n",
              "</tr>\n",
              "        \n",
              "            <tr style=\"background-color: hsl(0, 100.00%, 85.80%); border: none;\">\n",
              "    <td style=\"padding: 0 1em 0 0.5em; text-align: right; border: none;\">\n",
              "        -5.117\n",
              "    </td>\n",
              "    <td style=\"padding: 0 0.5em 0 0.5em; text-align: left; border: none;\">\n",
              "        waste\n",
              "    </td>\n",
              "    \n",
              "</tr>\n",
              "        \n",
              "            <tr style=\"background-color: hsl(0, 100.00%, 85.71%); border: none;\">\n",
              "    <td style=\"padding: 0 1em 0 0.5em; text-align: right; border: none;\">\n",
              "        -5.161\n",
              "    </td>\n",
              "    <td style=\"padding: 0 0.5em 0 0.5em; text-align: left; border: none;\">\n",
              "        boring\n",
              "    </td>\n",
              "    \n",
              "</tr>\n",
              "        \n",
              "            <tr style=\"background-color: hsl(0, 100.00%, 84.68%); border: none;\">\n",
              "    <td style=\"padding: 0 1em 0 0.5em; text-align: right; border: none;\">\n",
              "        -5.701\n",
              "    </td>\n",
              "    <td style=\"padding: 0 0.5em 0 0.5em; text-align: left; border: none;\">\n",
              "        bad\n",
              "    </td>\n",
              "    \n",
              "</tr>\n",
              "        \n",
              "            <tr style=\"background-color: hsl(0, 100.00%, 83.72%); border: none;\">\n",
              "    <td style=\"padding: 0 1em 0 0.5em; text-align: right; border: none;\">\n",
              "        -6.222\n",
              "    </td>\n",
              "    <td style=\"padding: 0 0.5em 0 0.5em; text-align: left; border: none;\">\n",
              "        awful\n",
              "    </td>\n",
              "    \n",
              "</tr>\n",
              "        \n",
              "            <tr style=\"background-color: hsl(0, 100.00%, 80.00%); border: none;\">\n",
              "    <td style=\"padding: 0 1em 0 0.5em; text-align: right; border: none;\">\n",
              "        -8.346\n",
              "    </td>\n",
              "    <td style=\"padding: 0 0.5em 0 0.5em; text-align: left; border: none;\">\n",
              "        worst\n",
              "    </td>\n",
              "    \n",
              "</tr>\n",
              "        \n",
              "\n",
              "        </tbody>\n",
              "    </table>\n",
              "\n",
              "            \n",
              "        \n",
              "\n",
              "        \n",
              "\n",
              "\n",
              "\n",
              "    \n",
              "\n",
              "    \n",
              "\n",
              "    \n",
              "\n",
              "    \n",
              "\n",
              "\n",
              "    \n",
              "\n",
              "    \n",
              "\n",
              "    \n",
              "\n",
              "    \n",
              "\n",
              "    \n",
              "\n",
              "    \n",
              "\n",
              "\n",
              "    \n",
              "\n",
              "    \n",
              "\n",
              "    \n",
              "\n",
              "    \n",
              "\n",
              "    \n",
              "\n",
              "    \n",
              "\n",
              "\n",
              "\n"
            ],
            "text/plain": [
              "<IPython.core.display.HTML object>"
            ]
          },
          "execution_count": 24,
          "metadata": {},
          "output_type": "execute_result"
        }
      ],
      "source": [
        "eli5.show_weights(estimator=logreg, \n",
        "                  feature_names=list(vectorizer.get_feature_names_out()),\n",
        "                  top=(15, 10))"
      ]
    },
    {
      "cell_type": "code",
      "execution_count": 25,
      "metadata": {},
      "outputs": [
        {
          "name": "stdout",
          "output_type": "stream",
          "text": [
            "Accuracy: 0.85268\n",
            "F1(micro): 0.85268\n",
            "F1(macro): 0.8526580696270833\n"
          ]
        }
      ],
      "source": [
        "y_pred = logreg.predict(X_test_text)\n",
        "\n",
        "acc = accuracy_score(df_test['label'], y_pred)\n",
        "f1_micro = f1_score(df_test['label'], y_pred, average='micro')\n",
        "f1_macro = f1_score(df_test['label'], y_pred, average='macro')\n",
        "\n",
        "print(f\"Accuracy: {acc}\\nF1(micro): {f1_micro}\\nF1(macro): {f1_macro}\")"
      ]
    },
    {
      "cell_type": "markdown",
      "metadata": {},
      "source": [
        "## Baseline 1 - LogReg (PT)"
      ]
    },
    {
      "cell_type": "code",
      "execution_count": 157,
      "metadata": {},
      "outputs": [
        {
          "name": "stdout",
          "output_type": "stream",
          "text": [
            "The model has 1,025 trainable parameters\n"
          ]
        }
      ],
      "source": [
        "class FFNN(nn.Module):\n",
        "    def __init__(self, input_size, num_classes):\n",
        "        super(FFNN, self).__init__()\n",
        "        self.fc = nn.Linear(input_size, num_classes)\n",
        "        \n",
        "    def forward(self, x):\n",
        "        x = F.sigmoid(self.fc(x))\n",
        "        return x\n",
        "    \n",
        "input_size = N_FEATURES\n",
        "num_classes = 1\n",
        "\n",
        "model = FFNN(input_size, num_classes)\n",
        "\n",
        "print(f'The model has {count_parameters(model):,} trainable parameters')"
      ]
    },
    {
      "cell_type": "code",
      "execution_count": 158,
      "metadata": {},
      "outputs": [],
      "source": [
        "train_history = []\n",
        "valid_history = []\n",
        "\n",
        "N_EPOCHS = 1\n",
        "CLIP = 1\n",
        "learning_rate = 0.01\n",
        "\n",
        "best_valid_loss = float('inf')\n",
        "early_stopping_counter = 0\n",
        "early_stopping_criteria = 2\n",
        "lr_on_plateau_update = 0.2\n",
        "min_lr = 0.0001\n",
        "\n",
        "# criterion = nn.CrossEntropyLoss()\n",
        "criterion = nn.BCELoss()\n",
        "optimizer = optim.Adam(model.parameters(), lr=learning_rate)"
      ]
    },
    {
      "cell_type": "code",
      "execution_count": 159,
      "metadata": {},
      "outputs": [
        {
          "data": {
            "image/png": "[encoded data removed]",
            "text/plain": [
              "<Figure size 1200x800 with 2 Axes>"
            ]
          },
          "metadata": {},
          "output_type": "display_data"
        },
        {
          "name": "stdout",
          "output_type": "stream",
          "text": [
            "Epoch: 01 | Time: 0m 3s\n",
            "Total training time: 0m 3s\n"
          ]
        }
      ],
      "source": [
        "st = time.time()\n",
        "for epoch in range(N_EPOCHS):\n",
        "    start_time = time.time()\n",
        "    train_loss = train(model, train_dataloader, optimizer, criterion, CLIP, train_history, valid_history)\n",
        "    valid_loss = evaluate(model, valid_dataloader, criterion)\n",
        "    end_time = time.time()\n",
        "    epoch_mins, epoch_secs = epoch_time(start_time, end_time)\n",
        "    if valid_loss < best_valid_loss:\n",
        "        best_valid_loss = valid_loss\n",
        "        torch.save(model.state_dict(), 'model.pt')\n",
        "        early_stopping_counter = 0\n",
        "    else:\n",
        "        early_stopping_counter += 1\n",
        "        learning_rate = max(min_lr, learning_rate * lr_on_plateau_update)\n",
        "        optimizer = optim.Adam(model.parameters(), lr=learning_rate)\n",
        "        print(f\"LR on pleataeu update. New LR: {learning_rate}\")\n",
        "    train_history.append(train_loss)\n",
        "    valid_history.append(valid_loss)\n",
        "    print(f'Epoch: {epoch+1:02} | Time: {epoch_mins}m {epoch_secs}s')\n",
        "    if early_stopping_counter >= early_stopping_criteria:\n",
        "        print(f\"Early stopping, reached limit: {early_stopping_criteria}\")\n",
        "        break\n",
        "tt = epoch_time(st, time.time())\n",
        "\n",
        "print(f'Total training time: {epoch_mins}m {epoch_secs}s')\n",
        "model.load_state_dict(torch.load('model.pt'));"
      ]
    },
    {
      "cell_type": "code",
      "execution_count": 160,
      "metadata": {},
      "outputs": [
        {
          "name": "stdout",
          "output_type": "stream",
          "text": [
            "Accuracy: 0.8486\n",
            "F1(micro): 0.8486\n",
            "F1(macro): 0.8485594670019193\n"
          ]
        }
      ],
      "source": [
        "y_true, y_pred = predict(model, test_dataloader)\n",
        "y_pred = list(map(round, y_pred))\n",
        "\n",
        "acc = accuracy_score(y_true, y_pred)\n",
        "f1_micro = f1_score(y_true, y_pred, average='micro')\n",
        "f1_macro = f1_score(y_true, y_pred, average='macro')\n",
        "\n",
        "print(f\"Accuracy: {acc}\\nF1(micro): {f1_micro}\\nF1(macro): {f1_macro}\")"
      ]
    },
    {
      "cell_type": "markdown",
      "metadata": {},
      "source": [
        "## Baseline 2 - FFNN"
      ]
    },
    {
      "cell_type": "code",
      "execution_count": 44,
      "metadata": {},
      "outputs": [
        {
          "name": "stdout",
          "output_type": "stream",
          "text": [
            "The model has 3,149,825 trainable parameters\n"
          ]
        }
      ],
      "source": [
        "class FFNN(nn.Module):\n",
        "    def __init__(self, input_size, num_classes):\n",
        "        super(FFNN, self).__init__()\n",
        "        hidden_size1 = 1024\n",
        "        hidden_size2 = 1024\n",
        "        hidden_size3 = 1024\n",
        "        \n",
        "        self.fc1 = nn.Linear(input_size, hidden_size1)  # 1024x1024\n",
        "        self.fc2 = nn.Linear(hidden_size1, hidden_size2)  # 1024x1024\n",
        "        self.fc3 = nn.Linear(hidden_size2, hidden_size3)  # 1024x1024\n",
        "        self.fc4 = nn.Linear(hidden_size3, num_classes)  # 1024x1\n",
        "        \n",
        "    def forward(self, x):\n",
        "        x = F.relu(self.fc1(x))\n",
        "        x = F.relu(self.fc2(x))\n",
        "        x = F.relu(self.fc3(x))\n",
        "        x = F.sigmoid(self.fc4(x))\n",
        "        return x\n",
        "    \n",
        "input_size = N_FEATURES\n",
        "num_classes = 1\n",
        "\n",
        "model = FFNN(input_size, num_classes)\n",
        "\n",
        "print(f'The model has {count_parameters(model):,} trainable parameters')\n"
      ]
    },
    {
      "cell_type": "code",
      "execution_count": 45,
      "metadata": {},
      "outputs": [
        {
          "data": {
            "text/plain": [
              "FFNN(\n",
              "  (fc1): Linear(in_features=1024, out_features=1024, bias=True)\n",
              "  (fc2): Linear(in_features=1024, out_features=1024, bias=True)\n",
              "  (fc3): Linear(in_features=1024, out_features=1024, bias=True)\n",
              "  (fc4): Linear(in_features=1024, out_features=1, bias=True)\n",
              ")"
            ]
          },
          "execution_count": 45,
          "metadata": {},
          "output_type": "execute_result"
        }
      ],
      "source": [
        "model"
      ]
    },
    {
      "cell_type": "code",
      "execution_count": 46,
      "metadata": {},
      "outputs": [],
      "source": [
        "train_history = []\n",
        "valid_history = []\n",
        "\n",
        "N_EPOCHS = 10\n",
        "CLIP = 1\n",
        "learning_rate = 0.01\n",
        "\n",
        "best_valid_loss = float('inf')\n",
        "early_stopping_counter = 0\n",
        "early_stopping_criteria = 3\n",
        "lr_on_plateau_update = 0.2\n",
        "min_lr = 0.0001\n",
        "\n",
        "# criterion = nn.CrossEntropyLoss()\n",
        "criterion = nn.BCELoss()\n",
        "optimizer = optim.Adam(model.parameters(), lr=learning_rate)"
      ]
    },
    {
      "cell_type": "code",
      "execution_count": 47,
      "metadata": {},
      "outputs": [
        {
          "data": {
            "image/png": "[encoded data removed]",
            "text/plain": [
              "<Figure size 1200x800 with 2 Axes>"
            ]
          },
          "metadata": {},
          "output_type": "display_data"
        },
        {
          "name": "stdout",
          "output_type": "stream",
          "text": [
            "LR on pleataeu update. New LR: 0.0001\n",
            "Epoch: 04 | Time: 0m 22s\n",
            "Early stopping, reached limit: 3\n",
            "Total training time: (1, 46)m (1, 46)s\n"
          ]
        }
      ],
      "source": [
        "st = time.time()\n",
        "for epoch in range(N_EPOCHS):\n",
        "    start_time = time.time()\n",
        "    train_loss = train(model, train_dataloader, optimizer, criterion, CLIP, train_history, valid_history)\n",
        "    valid_loss = evaluate(model, valid_dataloader, criterion)\n",
        "    end_time = time.time()\n",
        "    epoch_mins, epoch_secs = epoch_time(start_time, end_time)\n",
        "    if valid_loss < best_valid_loss:\n",
        "        best_valid_loss = valid_loss\n",
        "        torch.save(model.state_dict(), 'model.pt')\n",
        "        early_stopping_counter = 0\n",
        "    else:\n",
        "        early_stopping_counter += 1\n",
        "        learning_rate = max(min_lr, learning_rate * lr_on_plateau_update)\n",
        "        optimizer = optim.Adam(model.parameters(), lr=learning_rate)\n",
        "        print(f\"LR on pleataeu update. New LR: {learning_rate}\")\n",
        "    train_history.append(train_loss)\n",
        "    valid_history.append(valid_loss)\n",
        "    print(f'Epoch: {epoch+1:02} | Time: {epoch_mins}m {epoch_secs}s')\n",
        "    if early_stopping_counter >= early_stopping_criteria:\n",
        "        print(f\"Early stopping, reached limit: {early_stopping_criteria}\")\n",
        "        break\n",
        "tt_m, tt_s = epoch_time(st, time.time())\n",
        "\n",
        "print(f'Total training time: {tt_m}m {tt_s}s')\n",
        "model.load_state_dict(torch.load('model.pt'));"
      ]
    },
    {
      "cell_type": "code",
      "execution_count": 48,
      "metadata": {},
      "outputs": [
        {
          "name": "stdout",
          "output_type": "stream",
          "text": [
            "Accuracy: 0.84632\n",
            "F1(micro): 0.84632\n",
            "F1(macro): 0.8462580102457824\n"
          ]
        }
      ],
      "source": [
        "y_true, y_pred = predict(model, test_dataloader)\n",
        "y_pred = list(map(round, y_pred))\n",
        "\n",
        "acc = accuracy_score(y_true, y_pred)\n",
        "f1_micro = f1_score(y_true, y_pred, average='micro')\n",
        "f1_macro = f1_score(y_true, y_pred, average='macro')\n",
        "\n",
        "print(f\"Accuracy: {acc}\\nF1(micro): {f1_micro}\\nF1(macro): {f1_macro}\")"
      ]
    },
    {
      "cell_type": "markdown",
      "metadata": {},
      "source": [
        "## HyperCube FFNN"
      ]
    },
    {
      "cell_type": "code",
      "execution_count": 49,
      "metadata": {},
      "outputs": [
        {
          "name": "stdout",
          "output_type": "stream",
          "text": [
            "The model has 203,777 trainable parameters\n"
          ]
        }
      ],
      "source": [
        "class HyperCubeBlock(nn.Module):\n",
        "    def __init__(self, input_size, output_size, compression=2):\n",
        "        \"\"\"\"Compression factor 2 means there is only one transpose operation.\"\"\"\n",
        "        super(HyperCubeBlock, self).__init__()\n",
        "        assert input_size % compression == 0\n",
        "        assert input_size == output_size\n",
        "        self.hc_input_size = int(np.sqrt(input_size))\n",
        "        self.hc_layers_1 = []\n",
        "        self.hc_layers_2 = []\n",
        "        for i in range(self.hc_input_size):\n",
        "            self.hc_layers_1.append(nn.Linear(self.hc_input_size, self.hc_input_size))\n",
        "            self.hc_layers_2.append(nn.Linear(self.hc_input_size, self.hc_input_size))\n",
        "        self.hc_layers_1 = nn.ModuleList(self.hc_layers_1)\n",
        "        self.hc_layers_2 = nn.ModuleList(self.hc_layers_2)\n",
        "            \n",
        "    def forward(self, x):\n",
        "        x = x.reshape((x.shape[0],self.hc_input_size,self.hc_input_size))  # To HC, x.shape[0]=batch_size\n",
        "        out = []\n",
        "        for i in range(self.hc_input_size):\n",
        "            out.append(self.hc_layers_1[i](x[:,i,:]))  # TODO: replace with matrix multiplication instead of iter\n",
        "            # out.append(F.relu(self.hc_layers_1[i](x[:,i,:])))  # test\n",
        "        x = torch.stack(out)\n",
        "        x = x.transpose(0,1)  # !Check: not sure it's correct\n",
        "        x = x.transpose(1,2)\n",
        "        for i in range(self.hc_input_size):\n",
        "            out.append(self.hc_layers_2[i](x[:,i,:]))  # TODO: replace with matrix multiplication instead of iter\n",
        "            # out.append(F.relu(self.hc_layers_2[i](x[:,i,:])))  # test\n",
        "        x = x.reshape((x.shape[0],self.hc_input_size*self.hc_input_size))  # Flatten, x.shape[0]=batch_size\n",
        "        return x\n",
        "\n",
        "\n",
        "class HC_FFNN(nn.Module):\n",
        "    def __init__(self, input_size, num_classes):\n",
        "        super(HC_FFNN, self).__init__()\n",
        "        hidden_size1 = 1024\n",
        "        hidden_size2 = 1024\n",
        "        hidden_size3 = 1024\n",
        "\n",
        "        self.fc1 = HyperCubeBlock(input_size, hidden_size1)  # HC 1024x1024: 2^10 -> 2^10\n",
        "        self.fc2 = HyperCubeBlock(hidden_size1, hidden_size2)  # HC 1024x1024: 2^10 -> 2^10\n",
        "        self.fc3 = HyperCubeBlock(hidden_size2, hidden_size3)  # HC 1024x1024: 2^10 -> 2^10\n",
        "        self.fc4 = nn.Linear(hidden_size3, num_classes)  # 1024x1\n",
        "        \n",
        "    def forward(self, x):\n",
        "        x = F.relu(self.fc1(x))\n",
        "        x = F.relu(self.fc2(x))\n",
        "        x = F.relu(self.fc3(x))\n",
        "        x = F.sigmoid(self.fc4(x))\n",
        "        return x\n",
        "    \n",
        "input_size = N_FEATURES\n",
        "num_classes = 1\n",
        "\n",
        "model = HC_FFNN(input_size, num_classes)\n",
        "\n",
        "print(f'The model has {count_parameters(model):,} trainable parameters')"
      ]
    },
    {
      "cell_type": "code",
      "execution_count": 50,
      "metadata": {},
      "outputs": [],
      "source": [
        "# model"
      ]
    },
    {
      "cell_type": "code",
      "execution_count": 51,
      "metadata": {},
      "outputs": [],
      "source": [
        "train_history = []\n",
        "valid_history = []\n",
        "\n",
        "N_EPOCHS = 10\n",
        "CLIP = 1\n",
        "learning_rate = 0.01\n",
        "\n",
        "best_valid_loss = float('inf')\n",
        "early_stopping_counter = 0\n",
        "early_stopping_criteria = 3\n",
        "lr_on_plateau_update = 0.2\n",
        "min_lr = 0.0001\n",
        "\n",
        "# criterion = nn.CrossEntropyLoss()\n",
        "criterion = nn.BCELoss()\n",
        "optimizer = optim.Adam(model.parameters(), lr=learning_rate)"
      ]
    },
    {
      "cell_type": "code",
      "execution_count": 52,
      "metadata": {},
      "outputs": [
        {
          "data": {
            "image/png": "[encoded data removed]",
            "text/plain": [
              "<Figure size 1200x800 with 2 Axes>"
            ]
          },
          "metadata": {},
          "output_type": "display_data"
        },
        {
          "name": "stdout",
          "output_type": "stream",
          "text": [
            "LR on pleataeu update. New LR: 0.0001\n",
            "Epoch: 08 | Time: 0m 26s\n",
            "Early stopping, reached limit: 3\n",
            "Total training time: (3, 33)m (3, 33)s\n"
          ]
        }
      ],
      "source": [
        "st = time.time()\n",
        "for epoch in range(N_EPOCHS):\n",
        "    start_time = time.time()\n",
        "    train_loss = train(model, train_dataloader, optimizer, criterion, CLIP, train_history, valid_history)\n",
        "    valid_loss = evaluate(model, valid_dataloader, criterion)\n",
        "    end_time = time.time()\n",
        "    epoch_mins, epoch_secs = epoch_time(start_time, end_time)\n",
        "    if valid_loss < best_valid_loss:\n",
        "        best_valid_loss = valid_loss\n",
        "        torch.save(model.state_dict(), 'model.pt')\n",
        "        early_stopping_counter = 0\n",
        "    else:\n",
        "        early_stopping_counter += 1\n",
        "        learning_rate = max(min_lr, learning_rate * lr_on_plateau_update)\n",
        "        optimizer = optim.Adam(model.parameters(), lr=learning_rate)\n",
        "        print(f\"LR on pleataeu update. New LR: {learning_rate}\")\n",
        "    train_history.append(train_loss)\n",
        "    valid_history.append(valid_loss)\n",
        "    print(f'Epoch: {epoch+1:02} | Time: {epoch_mins}m {epoch_secs}s')\n",
        "    if early_stopping_counter >= early_stopping_criteria:\n",
        "        print(f\"Early stopping, reached limit: {early_stopping_criteria}\")\n",
        "        break\n",
        "tt_m, tt_s = epoch_time(st, time.time())\n",
        "\n",
        "print(f'Total training time: {tt_m}m {tt_s}s')\n",
        "model.load_state_dict(torch.load('model.pt'));"
      ]
    },
    {
      "cell_type": "code",
      "execution_count": 53,
      "metadata": {},
      "outputs": [
        {
          "name": "stdout",
          "output_type": "stream",
          "text": [
            "Accuracy: 0.85076\n",
            "F1(micro): 0.85076\n",
            "F1(macro): 0.8507590522602855\n"
          ]
        }
      ],
      "source": [
        "y_true, y_pred = predict(model, test_dataloader)\n",
        "y_pred = list(map(round, y_pred))\n",
        "\n",
        "acc = accuracy_score(y_true, y_pred)\n",
        "f1_micro = f1_score(y_true, y_pred, average='micro')\n",
        "f1_macro = f1_score(y_true, y_pred, average='macro')\n",
        "\n",
        "print(f\"Accuracy: {acc}\\nF1(micro): {f1_micro}\\nF1(macro): {f1_macro}\")"
      ]
    },
    {
      "cell_type": "markdown",
      "metadata": {},
      "source": [
        "## HyperCube FFNN (low-level optimized)"
      ]
    },
    {
      "cell_type": "markdown",
      "metadata": {},
      "source": [
        "### Linear layer 2D operation"
      ]
    },
    {
      "cell_type": "code",
      "execution_count": 157,
      "metadata": {},
      "outputs": [
        {
          "data": {
            "text/plain": [
              "torch.Size([2, 3])"
            ]
          },
          "execution_count": 157,
          "metadata": {},
          "output_type": "execute_result"
        }
      ],
      "source": [
        "inp = torch.tensor([\n",
        "    [1,2,3],\n",
        "    [4,5,6]\n",
        "])\n",
        "inp.shape"
      ]
    },
    {
      "cell_type": "code",
      "execution_count": 158,
      "metadata": {},
      "outputs": [
        {
          "data": {
            "text/plain": [
              "torch.Size([2, 4, 3])"
            ]
          },
          "execution_count": 158,
          "metadata": {},
          "output_type": "execute_result"
        }
      ],
      "source": [
        "w = torch.tensor([\n",
        "    [\n",
        "        [1,1,1],\n",
        "        [2,2,2],\n",
        "        [3,3,3],\n",
        "        [4,4,4]\n",
        "    ],\n",
        "    [\n",
        "        [5,5,5],\n",
        "        [6,6,6],\n",
        "        [7,7,7],\n",
        "        [8,8,8]\n",
        "    ]\n",
        "])\n",
        "w.shape"
      ]
    },
    {
      "cell_type": "code",
      "execution_count": 161,
      "metadata": {},
      "outputs": [
        {
          "data": {
            "text/plain": [
              "(tensor([[[1, 2, 3],\n",
              "          [1, 2, 3],\n",
              "          [1, 2, 3],\n",
              "          [1, 2, 3]],\n",
              " \n",
              "         [[4, 5, 6],\n",
              "          [4, 5, 6],\n",
              "          [4, 5, 6],\n",
              "          [4, 5, 6]]]),\n",
              " torch.Size([2, 4, 3]))"
            ]
          },
          "execution_count": 161,
          "metadata": {},
          "output_type": "execute_result"
        }
      ],
      "source": [
        "out = inp.expand((4,2,3)).transpose(0,1)\n",
        "out, out.shape"
      ]
    },
    {
      "cell_type": "code",
      "execution_count": 98,
      "metadata": {},
      "outputs": [],
      "source": [
        "def linear_2d(x, w, b=None):\n",
        "    \"\"\"\n",
        "    v1: 2D input matrix, no bias\n",
        "\n",
        "    inp:\n",
        "    - dim 0 (equal to w.shape[0]) is common with the weight matrix w and preserved after the computation\n",
        "    - dim 1 (equal to w.shape[2]) is used to constract the new set of features of a new size (w.shape[1])\n",
        "\n",
        "    w:\n",
        "    - dim 0 (equal to x.shape[0]) is common with the input and preserves the dimension of the input\n",
        "    - dim 1 is the new contracted feature representation\n",
        "    - dim 2 (equal to x.shape[1]) is of the size of the initial set of features\n",
        "    \"\"\"\n",
        "    x = x.expand((4,2,3)).transpose(0,1) * w\n",
        "    return torch.sum(x, axis=2)"
      ]
    },
    {
      "cell_type": "code",
      "execution_count": 99,
      "metadata": {},
      "outputs": [
        {
          "data": {
            "text/plain": [
              "tensor([[  6,  12,  18,  24],\n",
              "        [ 75,  90, 105, 120]])"
            ]
          },
          "execution_count": 99,
          "metadata": {},
          "output_type": "execute_result"
        }
      ],
      "source": [
        "linear_2d(inp, w), linear_2d(inp, w).shape"
      ]
    },
    {
      "cell_type": "code",
      "execution_count": 102,
      "metadata": {},
      "outputs": [
        {
          "data": {
            "text/plain": [
              "torch.Size([4])"
            ]
          },
          "execution_count": 102,
          "metadata": {},
          "output_type": "execute_result"
        }
      ],
      "source": [
        "b = torch.tensor([\n",
        "    0.1,0.2,0.3, 0.4\n",
        "])\n",
        "b.shape"
      ]
    },
    {
      "cell_type": "code",
      "execution_count": 105,
      "metadata": {},
      "outputs": [],
      "source": [
        "def linear_2d(x, w, b=None):\n",
        "    \"\"\"\n",
        "    v2: 2D input matrix, with bias\n",
        "\n",
        "    inp:\n",
        "    - dim 0 (equal to w.shape[0]) is common with the weight matrix w and preserved after the computation\n",
        "    - dim 1 (equal to w.shape[2]) is used to construct the new set of features of a new size (w.shape[1])\n",
        "\n",
        "    w:\n",
        "    - dim 0 (equal to x.shape[0]) is common with the input and preserves the dimension of the input\n",
        "    - dim 1 is the new constructed feature representation\n",
        "    - dim 2 (equal to x.shape[1]) is of the size of the initial set of features\n",
        "\n",
        "    b:\n",
        "    - dim 0 (equal to w.shape[1]) bias for each of the new feature representations\n",
        "    \"\"\"\n",
        "    x = x.expand((4,2,3)).movedim(0,1) * w\n",
        "    x = torch.sum(x, axis=2) + b.expand((2,4))\n",
        "    return x"
      ]
    },
    {
      "cell_type": "code",
      "execution_count": 106,
      "metadata": {},
      "outputs": [
        {
          "data": {
            "text/plain": [
              "tensor([[  6.1000,  12.2000,  18.3000,  24.4000],\n",
              "        [ 75.1000,  90.2000, 105.3000, 120.4000]])"
            ]
          },
          "execution_count": 106,
          "metadata": {},
          "output_type": "execute_result"
        }
      ],
      "source": [
        "linear_2d(inp, w, b)"
      ]
    },
    {
      "cell_type": "markdown",
      "metadata": {},
      "source": [
        "input must be of size (N, *, n_2d_layers, in_features),\n",
        "where N - is the number of samples in the batch, * - additional dimensions."
      ]
    },
    {
      "cell_type": "code",
      "execution_count": 186,
      "metadata": {},
      "outputs": [
        {
          "data": {
            "text/plain": [
              "torch.Size([2, 2, 3])"
            ]
          },
          "execution_count": 186,
          "metadata": {},
          "output_type": "execute_result"
        }
      ],
      "source": [
        "inp = torch.tensor([\n",
        "    [[1,2,3],[4,5,6]],\n",
        "    [[10,20,30],[40,50,60]]\n",
        "])\n",
        "inp.shape"
      ]
    },
    {
      "cell_type": "code",
      "execution_count": 217,
      "metadata": {},
      "outputs": [
        {
          "data": {
            "text/plain": [
              "torch.Size([2, 4])"
            ]
          },
          "execution_count": 217,
          "metadata": {},
          "output_type": "execute_result"
        }
      ],
      "source": [
        "b = torch.tensor([\n",
        "    [0.1,0.2,0.3,0.4],\n",
        "    [0.5,0.6,0.7,0.8]\n",
        "])\n",
        "b.shape"
      ]
    },
    {
      "cell_type": "code",
      "execution_count": 213,
      "metadata": {},
      "outputs": [],
      "source": [
        "def linear_2d(x, w, b=None):\n",
        "    \"\"\"\n",
        "    v3: 3D input matrix, with bias, generalized.\n",
        "\n",
        "    x:\n",
        "    - dim 0 is the number of samples in the batch\n",
        "    - dim 1 (equal to w.shape[0]) is common with the weight matrix w and preserved after the computation\n",
        "    - dim 2 (equal to w.shape[2]) is used to construct the new set of features of a new size (w.shape[1])\n",
        "\n",
        "    w:\n",
        "    - dim 0 (equal to x.shape[1]) is common with the input and preserves the dimension of the input\n",
        "    - dim 1 is the new constructed feature representation\n",
        "    - dim 2 (equal to x.shape[2]) is of the size of the initial set of features\n",
        "\n",
        "    b:\n",
        "    - dim 0 (equal to x.shape[1]) is common with the input and preserves the dimension of the input\n",
        "    - dim 1 (equal to w.shape[1]) bias for each of the new feature representations\n",
        "\n",
        "    out:\n",
        "    - dim 0 is the number of samples in the batch\n",
        "    - dim 1 (equal to w.shape[0]) is common with the weight matrix w and preserved after the computation\n",
        "    - dim 2 is the new constructed feature representation\n",
        "    \"\"\"\n",
        "    nf = w.shape[1]\n",
        "    x = x.expand((nf,*x.shape)).movedim(0,-2) * w\n",
        "    x = torch.sum(x, axis=-1) + b\n",
        "    return x"
      ]
    },
    {
      "cell_type": "code",
      "execution_count": 189,
      "metadata": {},
      "outputs": [],
      "source": [
        "out = inp.expand((4,2,2,3))"
      ]
    },
    {
      "cell_type": "code",
      "execution_count": 190,
      "metadata": {},
      "outputs": [
        {
          "data": {
            "text/plain": [
              "torch.Size([2, 4, 3])"
            ]
          },
          "execution_count": 190,
          "metadata": {},
          "output_type": "execute_result"
        }
      ],
      "source": [
        "w.shape"
      ]
    },
    {
      "cell_type": "code",
      "execution_count": 191,
      "metadata": {},
      "outputs": [
        {
          "data": {
            "text/plain": [
              "(tensor([[[[ 1,  2,  3],\n",
              "           [ 1,  2,  3],\n",
              "           [ 1,  2,  3],\n",
              "           [ 1,  2,  3]],\n",
              " \n",
              "          [[ 4,  5,  6],\n",
              "           [ 4,  5,  6],\n",
              "           [ 4,  5,  6],\n",
              "           [ 4,  5,  6]]],\n",
              " \n",
              " \n",
              "         [[[10, 20, 30],\n",
              "           [10, 20, 30],\n",
              "           [10, 20, 30],\n",
              "           [10, 20, 30]],\n",
              " \n",
              "          [[40, 50, 60],\n",
              "           [40, 50, 60],\n",
              "           [40, 50, 60],\n",
              "           [40, 50, 60]]]]),\n",
              " torch.Size([2, 2, 4, 3]))"
            ]
          },
          "execution_count": 191,
          "metadata": {},
          "output_type": "execute_result"
        }
      ],
      "source": [
        "# out = out.permute(1,2,0,3)\n",
        "# out, out.shape\n",
        "out = out.movedim(0,2)\n",
        "out, out.shape"
      ]
    },
    {
      "cell_type": "code",
      "execution_count": 192,
      "metadata": {},
      "outputs": [
        {
          "data": {
            "text/plain": [
              "tensor([[[1, 1, 1],\n",
              "         [2, 2, 2],\n",
              "         [3, 3, 3],\n",
              "         [4, 4, 4]],\n",
              "\n",
              "        [[5, 5, 5],\n",
              "         [6, 6, 6],\n",
              "         [7, 7, 7],\n",
              "         [8, 8, 8]]])"
            ]
          },
          "execution_count": 192,
          "metadata": {},
          "output_type": "execute_result"
        }
      ],
      "source": [
        "w"
      ]
    },
    {
      "cell_type": "code",
      "execution_count": 193,
      "metadata": {},
      "outputs": [
        {
          "data": {
            "text/plain": [
              "tensor([[[[  1,   2,   3],\n",
              "          [  2,   4,   6],\n",
              "          [  3,   6,   9],\n",
              "          [  4,   8,  12]],\n",
              "\n",
              "         [[ 20,  25,  30],\n",
              "          [ 24,  30,  36],\n",
              "          [ 28,  35,  42],\n",
              "          [ 32,  40,  48]]],\n",
              "\n",
              "\n",
              "        [[[ 10,  20,  30],\n",
              "          [ 20,  40,  60],\n",
              "          [ 30,  60,  90],\n",
              "          [ 40,  80, 120]],\n",
              "\n",
              "         [[200, 250, 300],\n",
              "          [240, 300, 360],\n",
              "          [280, 350, 420],\n",
              "          [320, 400, 480]]]])"
            ]
          },
          "execution_count": 193,
          "metadata": {},
          "output_type": "execute_result"
        }
      ],
      "source": [
        "out * w"
      ]
    },
    {
      "cell_type": "code",
      "execution_count": 218,
      "metadata": {},
      "outputs": [
        {
          "data": {
            "text/plain": [
              "(tensor([[[[  1,   2,   3],\n",
              "           [  2,   4,   6],\n",
              "           [  3,   6,   9],\n",
              "           [  4,   8,  12]],\n",
              " \n",
              "          [[ 20,  25,  30],\n",
              "           [ 24,  30,  36],\n",
              "           [ 28,  35,  42],\n",
              "           [ 32,  40,  48]]],\n",
              " \n",
              " \n",
              "         [[[ 10,  20,  30],\n",
              "           [ 20,  40,  60],\n",
              "           [ 30,  60,  90],\n",
              "           [ 40,  80, 120]],\n",
              " \n",
              "          [[200, 250, 300],\n",
              "           [240, 300, 360],\n",
              "           [280, 350, 420],\n",
              "           [320, 400, 480]]]]),\n",
              " torch.Size([2, 2, 4, 3]))"
            ]
          },
          "execution_count": 218,
          "metadata": {},
          "output_type": "execute_result"
        }
      ],
      "source": [
        "out = inp.expand((4,2,2,3)).movedim(0,-2) * w\n",
        "out, out.shape"
      ]
    },
    {
      "cell_type": "code",
      "execution_count": 219,
      "metadata": {},
      "outputs": [
        {
          "data": {
            "text/plain": [
              "tensor([[0.1000, 0.2000, 0.3000, 0.4000],\n",
              "        [0.5000, 0.6000, 0.7000, 0.8000]])"
            ]
          },
          "execution_count": 219,
          "metadata": {},
          "output_type": "execute_result"
        }
      ],
      "source": [
        "b"
      ]
    },
    {
      "cell_type": "code",
      "execution_count": 220,
      "metadata": {},
      "outputs": [
        {
          "data": {
            "text/plain": [
              "tensor([[[   6.1000,   12.2000,   18.3000,   24.4000],\n",
              "         [  75.5000,   90.6000,  105.7000,  120.8000]],\n",
              "\n",
              "        [[  60.1000,  120.2000,  180.3000,  240.4000],\n",
              "         [ 750.5000,  900.6000, 1050.7000, 1200.8000]]])"
            ]
          },
          "execution_count": 220,
          "metadata": {},
          "output_type": "execute_result"
        }
      ],
      "source": [
        "torch.sum(out, axis=3) + b"
      ]
    },
    {
      "cell_type": "code",
      "execution_count": 214,
      "metadata": {},
      "outputs": [
        {
          "data": {
            "text/plain": [
              "(tensor([[[ 1,  2,  3],\n",
              "          [ 4,  5,  6]],\n",
              " \n",
              "         [[10, 20, 30],\n",
              "          [40, 50, 60]]]),\n",
              " torch.Size([2, 2, 3]))"
            ]
          },
          "execution_count": 214,
          "metadata": {},
          "output_type": "execute_result"
        }
      ],
      "source": [
        "inp, inp.shape"
      ]
    },
    {
      "cell_type": "code",
      "execution_count": 215,
      "metadata": {},
      "outputs": [
        {
          "data": {
            "text/plain": [
              "(tensor([[[1, 1, 1],\n",
              "          [2, 2, 2],\n",
              "          [3, 3, 3],\n",
              "          [4, 4, 4]],\n",
              " \n",
              "         [[5, 5, 5],\n",
              "          [6, 6, 6],\n",
              "          [7, 7, 7],\n",
              "          [8, 8, 8]]]),\n",
              " torch.Size([2, 4, 3]))"
            ]
          },
          "execution_count": 215,
          "metadata": {},
          "output_type": "execute_result"
        }
      ],
      "source": [
        "w, w.shape"
      ]
    },
    {
      "cell_type": "code",
      "execution_count": 222,
      "metadata": {},
      "outputs": [
        {
          "data": {
            "text/plain": [
              "(tensor([[0.1000, 0.2000, 0.3000, 0.4000],\n",
              "         [0.5000, 0.6000, 0.7000, 0.8000]]),\n",
              " torch.Size([2, 4]))"
            ]
          },
          "execution_count": 222,
          "metadata": {},
          "output_type": "execute_result"
        }
      ],
      "source": [
        "b, b.shape"
      ]
    },
    {
      "cell_type": "code",
      "execution_count": 225,
      "metadata": {},
      "outputs": [
        {
          "data": {
            "text/plain": [
              "(tensor([[[   6.1000,   12.2000,   18.3000,   24.4000],\n",
              "          [  75.5000,   90.6000,  105.7000,  120.8000]],\n",
              " \n",
              "         [[  60.1000,  120.2000,  180.3000,  240.4000],\n",
              "          [ 750.5000,  900.6000, 1050.7000, 1200.8000]]]),\n",
              " torch.Size([2, 2, 4]))"
            ]
          },
          "execution_count": 225,
          "metadata": {},
          "output_type": "execute_result"
        }
      ],
      "source": [
        "out = linear_2d(inp, w, b)\n",
        "out, out.shape"
      ]
    },
    {
      "cell_type": "markdown",
      "metadata": {},
      "source": [
        "F.linear:\n",
        "\n",
        "* x: (batch_size,in_features)\n",
        "* w: (in_features,out_features)\n",
        "* b: (out_features)\n",
        "* out: (batch_size,out_features)\n",
        "\n",
        "linear_2d\n",
        "\n",
        "* x: (batch_size,n_2d_layers,in_features)\n",
        "* w: (in_features,n_2d_layers,out_features)  * here can be some changes\n",
        "* b: (n_2d_layers,out_features)\n",
        "* out: (batch_size,n_2d_layers,out_features)"
      ]
    },
    {
      "cell_type": "code",
      "execution_count": null,
      "metadata": {},
      "outputs": [],
      "source": [
        "x  # batch_size, n_2d_layers, in_features\n",
        "nf = w.shape[1]  # out_features\n",
        "x = x.expand((nf,*x.shape))  # out_features, batch_size, n_2d_layers, in_features\n",
        "\n",
        "x = x.movedim(0,-2)  # batch_size, n_2d_layers, out_features, in_features\n",
        "x = x * w\n",
        "x  # batch_size, n_2d_layers, out_features, in_features\n",
        "x = torch.sum(x, axis=-1)  # batch_size, n_2d_layers, out_features\n",
        "\n",
        "x = x + b  # batch_size, n_2d_layers, out_features + n_2d_layers, out_features\n",
        "x  # batch_size, n_2d_layers, out_features"
      ]
    },
    {
      "cell_type": "markdown",
      "metadata": {},
      "source": [
        "### Linear 3D layer and HC block"
      ]
    },
    {
      "cell_type": "code",
      "execution_count": 247,
      "metadata": {},
      "outputs": [],
      "source": [
        "def linear_2d(x, w, b=None):\n",
        "    x = x.expand((w.shape[1],*x.shape)).movedim(0,-2) * w\n",
        "    x = torch.sum(x, axis=-1) + b\n",
        "    return x"
      ]
    },
    {
      "cell_type": "code",
      "execution_count": 250,
      "metadata": {},
      "outputs": [],
      "source": [
        "class Linear3D(nn.Module):\n",
        "    \"\"\"\n",
        "    This is a 3D linear layer. It represents `n_2d_layers` \n",
        "    2D linear layers and performs a dimension-wise multiplication.\n",
        "    \"\"\"\n",
        "    __constants__ = ['in_features', 'out_features']\n",
        "    in_features: int\n",
        "    out_features: int\n",
        "    weight: torch.Tensor\n",
        "\n",
        "    def __init__(self, in_features: int, n_2d_layers: int, out_features: int, bias: bool = True,\n",
        "                 device=None, dtype=None) -> None:\n",
        "        factory_kwargs = {'device': device, 'dtype': dtype}\n",
        "        super().__init__()\n",
        "        self.in_features = in_features\n",
        "        self.out_features = out_features\n",
        "        self.n_2d_layers = n_2d_layers\n",
        "        self.weight = nn.Parameter(torch.empty((in_features,n_2d_layers,out_features), **factory_kwargs))\n",
        "        if bias:\n",
        "            self.bias = nn.Parameter(torch.empty((n_2d_layers,out_features), **factory_kwargs))\n",
        "        else:\n",
        "            self.register_parameter('bias', None)\n",
        "        self.reset_parameters()\n",
        "\n",
        "    def reset_parameters(self) -> None:\n",
        "        nn.init.kaiming_uniform_(self.weight, a=math.sqrt(5))\n",
        "        if self.bias is not None:\n",
        "            fan_in, _ = nn.init._calculate_fan_in_and_fan_out(self.weight)\n",
        "            bound = 1 / math.sqrt(fan_in) if fan_in > 0 else 0\n",
        "            nn.init.uniform_(self.bias, -bound, bound)\n",
        "\n",
        "    def forward(self, input: torch.Tensor) -> torch.Tensor:\n",
        "        \"\"\"\n",
        "        input must be of size (N, *, n_2d_layers, in_features),\n",
        "        where N - is the number of samples in the batch, * - additional dimensions.\n",
        "        \"\"\"\n",
        "        return linear_2d(input, self.weight, self.bias)\n",
        "\n",
        "    def extra_repr(self) -> str:\n",
        "        return 'in_features={}, n_2d_layers={}, out_features={}, bias={}'.format(\n",
        "            self.in_features, self.n_2d_layers, self.out_features, self.bias is not None\n",
        "        )"
      ]
    },
    {
      "cell_type": "code",
      "execution_count": 251,
      "metadata": {},
      "outputs": [],
      "source": [
        "class HyperCubeBlock(nn.Module):\n",
        "    def __init__(self, input_size, output_size, compression=2):\n",
        "        \"\"\"\"Compression factor 2 means there is only one transpose operation.\"\"\"\n",
        "        super(HyperCubeBlock, self).__init__()\n",
        "        assert input_size % compression == 0\n",
        "        assert input_size == output_size\n",
        "        self.hc_input_size = int(np.sqrt(input_size))\n",
        "        self.hc_layers_1 = Linear3D(self.hc_input_size, self.hc_input_size, self.hc_input_size)\n",
        "        self.hc_layers_2 = Linear3D(self.hc_input_size, self.hc_input_size, self.hc_input_size)\n",
        "            \n",
        "    def forward(self, x):\n",
        "        x = x.reshape((x.shape[0],self.hc_input_size,self.hc_input_size))  # To HC, x.shape[0]=batch_size\n",
        "        x = self.hc_layers_1(x)\n",
        "        # x = x.transpose(0,1)  # !Check: not sure it's correct;\n",
        "        x = x.transpose(1,2)\n",
        "        x = self.hc_layers_2(x)\n",
        "        # x = x.reshape((x.shape[0],self.hc_input_size*self.hc_input_size))  # Flatten, x.shape[0]=batch_size\n",
        "        x = x.flatten(start_dim=-2, end_dim=-1)\n",
        "        return x"
      ]
    },
    {
      "cell_type": "markdown",
      "metadata": {},
      "source": [
        "### Experiment"
      ]
    },
    {
      "cell_type": "code",
      "execution_count": 252,
      "metadata": {},
      "outputs": [
        {
          "name": "stdout",
          "output_type": "stream",
          "text": [
            "The model has 203,777 trainable parameters\n"
          ]
        }
      ],
      "source": [
        "class HC_FFNN(nn.Module):\n",
        "    def __init__(self, input_size, num_classes):\n",
        "        super(HC_FFNN, self).__init__()\n",
        "        hidden_size1 = 1024\n",
        "        hidden_size2 = 1024\n",
        "        hidden_size3 = 1024\n",
        "\n",
        "        self.hc1 = HyperCubeBlock(input_size, hidden_size1)  # HC 1024x1024: 2^10 -> 2^10\n",
        "        self.hc2 = HyperCubeBlock(hidden_size1, hidden_size2)  # HC 1024x1024: 2^10 -> 2^10\n",
        "        self.hc3 = HyperCubeBlock(hidden_size2, hidden_size3)  # HC 1024x1024: 2^10 -> 2^10\n",
        "        self.fc4 = nn.Linear(hidden_size3, num_classes)  # 1024x1\n",
        "        \n",
        "    def forward(self, x):\n",
        "        x = F.relu(self.hc1(x))\n",
        "        x = F.relu(self.hc2(x))\n",
        "        x = F.relu(self.hc3(x))\n",
        "        x = F.sigmoid(self.fc4(x))\n",
        "        return x\n",
        "    \n",
        "input_size = N_FEATURES\n",
        "num_classes = 1\n",
        "\n",
        "model = HC_FFNN(input_size, num_classes)\n",
        "\n",
        "print(f'The model has {count_parameters(model):,} trainable parameters')"
      ]
    },
    {
      "cell_type": "code",
      "execution_count": 253,
      "metadata": {},
      "outputs": [
        {
          "data": {
            "text/plain": [
              "HC_FFNN(\n",
              "  (fc1): HyperCubeBlock(\n",
              "    (hc_layers_1): Linear3D(in_features=32, n_2d_layers=32, out_features=32, bias=True)\n",
              "    (hc_layers_2): Linear3D(in_features=32, n_2d_layers=32, out_features=32, bias=True)\n",
              "  )\n",
              "  (fc2): HyperCubeBlock(\n",
              "    (hc_layers_1): Linear3D(in_features=32, n_2d_layers=32, out_features=32, bias=True)\n",
              "    (hc_layers_2): Linear3D(in_features=32, n_2d_layers=32, out_features=32, bias=True)\n",
              "  )\n",
              "  (fc3): HyperCubeBlock(\n",
              "    (hc_layers_1): Linear3D(in_features=32, n_2d_layers=32, out_features=32, bias=True)\n",
              "    (hc_layers_2): Linear3D(in_features=32, n_2d_layers=32, out_features=32, bias=True)\n",
              "  )\n",
              "  (fc4): Linear(in_features=1024, out_features=1, bias=True)\n",
              ")"
            ]
          },
          "execution_count": 253,
          "metadata": {},
          "output_type": "execute_result"
        }
      ],
      "source": [
        "model"
      ]
    },
    {
      "cell_type": "code",
      "execution_count": 254,
      "metadata": {},
      "outputs": [],
      "source": [
        "train_history = []\n",
        "valid_history = []\n",
        "\n",
        "N_EPOCHS = 10\n",
        "CLIP = 1\n",
        "learning_rate = 0.01\n",
        "\n",
        "best_valid_loss = float('inf')\n",
        "early_stopping_counter = 0\n",
        "early_stopping_criteria = 3\n",
        "lr_on_plateau_update = 0.2\n",
        "min_lr = 0.0001\n",
        "\n",
        "# criterion = nn.CrossEntropyLoss()\n",
        "criterion = nn.BCELoss()\n",
        "optimizer = optim.Adam(model.parameters(), lr=learning_rate)"
      ]
    },
    {
      "cell_type": "code",
      "execution_count": 255,
      "metadata": {},
      "outputs": [
        {
          "data": {
            "image/png": "[encoded data removed]",
            "text/plain": [
              "<Figure size 1200x800 with 2 Axes>"
            ]
          },
          "metadata": {},
          "output_type": "display_data"
        },
        {
          "name": "stdout",
          "output_type": "stream",
          "text": [
            "LR on pleataeu update. New LR: 0.0001\n",
            "Epoch: 04 | Time: 0m 25s\n",
            "Early stopping, reached limit: 3\n",
            "Total training time: 1m 50s\n"
          ]
        }
      ],
      "source": [
        "st = time.time()\n",
        "for epoch in range(N_EPOCHS):\n",
        "    start_time = time.time()\n",
        "    train_loss = train(model, train_dataloader, optimizer, criterion, CLIP, train_history, valid_history)\n",
        "    valid_loss = evaluate(model, valid_dataloader, criterion)\n",
        "    end_time = time.time()\n",
        "    epoch_mins, epoch_secs = epoch_time(start_time, end_time)\n",
        "    if valid_loss < best_valid_loss:\n",
        "        best_valid_loss = valid_loss\n",
        "        torch.save(model.state_dict(), 'model.pt')\n",
        "        early_stopping_counter = 0\n",
        "    else:\n",
        "        early_stopping_counter += 1\n",
        "        learning_rate = max(min_lr, learning_rate * lr_on_plateau_update)\n",
        "        optimizer = optim.Adam(model.parameters(), lr=learning_rate)\n",
        "        print(f\"LR on pleataeu update. New LR: {learning_rate}\")\n",
        "    train_history.append(train_loss)\n",
        "    valid_history.append(valid_loss)\n",
        "    print(f'Epoch: {epoch+1:02} | Time: {epoch_mins}m {epoch_secs}s')\n",
        "    if early_stopping_counter >= early_stopping_criteria:\n",
        "        print(f\"Early stopping, reached limit: {early_stopping_criteria}\")\n",
        "        break\n",
        "tt_m, tt_s = epoch_time(st, time.time())\n",
        "\n",
        "print(f'Total training time: {tt_m}m {tt_s}s')\n",
        "model.load_state_dict(torch.load('model.pt'));"
      ]
    },
    {
      "cell_type": "code",
      "execution_count": 256,
      "metadata": {},
      "outputs": [
        {
          "name": "stdout",
          "output_type": "stream",
          "text": [
            "Accuracy: 0.85072\n",
            "F1(micro): 0.85072\n",
            "F1(macro): 0.8507053084468652\n"
          ]
        }
      ],
      "source": [
        "y_true, y_pred = predict(model, test_dataloader)\n",
        "y_pred = list(map(round, y_pred))\n",
        "\n",
        "acc = accuracy_score(y_true, y_pred)\n",
        "f1_micro = f1_score(y_true, y_pred, average='micro')\n",
        "f1_macro = f1_score(y_true, y_pred, average='macro')\n",
        "\n",
        "print(f\"Accuracy: {acc}\\nF1(micro): {f1_micro}\\nF1(macro): {f1_macro}\")"
      ]
    },
    {
      "cell_type": "code",
      "execution_count": null,
      "metadata": {},
      "outputs": [],
      "source": []
    },
    {
      "cell_type": "code",
      "execution_count": null,
      "metadata": {},
      "outputs": [],
      "source": []
    },
    {
      "cell_type": "code",
      "execution_count": null,
      "metadata": {},
      "outputs": [],
      "source": []
    },
    {
      "cell_type": "code",
      "execution_count": null,
      "metadata": {},
      "outputs": [],
      "source": []
    },
    {
      "cell_type": "code",
      "execution_count": null,
      "metadata": {},
      "outputs": [],
      "source": []
    },
    {
      "cell_type": "code",
      "execution_count": null,
      "metadata": {},
      "outputs": [],
      "source": []
    },
    {
      "cell_type": "code",
      "execution_count": null,
      "metadata": {},
      "outputs": [],
      "source": []
    },
    {
      "cell_type": "code",
      "execution_count": null,
      "metadata": {},
      "outputs": [],
      "source": []
    },
    {
      "cell_type": "markdown",
      "metadata": {},
      "source": [
        "## Self-reflection NN"
      ]
    },
    {
      "cell_type": "code",
      "execution_count": null,
      "metadata": {},
      "outputs": [],
      "source": [
        "class PairwiseAttention(nn.Module):\n",
        "    def __init__(self, input_size, output_size):\n",
        "        super(PairwiseAttention, self).__init__()\n",
        "        self.fc = nn.Linear(input_size, output_size)\n",
        "\n",
        "    def forward(self, x):\n",
        "        x1 = self.fc(x)\n",
        "        x = torch.mul(x, x1)\n",
        "        return x\n",
        "\n",
        "\n",
        "class FFNN(nn.Module):\n",
        "    def __init__(self, input_size, num_classes):\n",
        "        super(FFNN, self).__init__()\n",
        "        hidden_size = 1024\n",
        "        self.fc1 = PairwiseAttention(input_size, hidden_size)\n",
        "        self.fc4 = nn.Linear(hidden_size, num_classes)\n",
        "\n",
        "    def forward(self, x):\n",
        "        w = 10  # (?) Can make trainable with softmax over linear layer or multiplying sigm by 10\n",
        "        for i in range(1, w):\n",
        "            x = F.relu(self.fc1(x))\n",
        "        x = F.sigmoid(self.fc4(x))\n",
        "        return x\n",
        "\n",
        "input_size = N_FEATURES\n",
        "num_classes = 1\n",
        "\n",
        "model = FFNN(input_size, num_classes)\n",
        "\n",
        "print(f'The model has {count_parameters(model):,} trainable parameters')"
      ]
    },
    {
      "cell_type": "code",
      "execution_count": null,
      "metadata": {},
      "outputs": [],
      "source": []
    },
    {
      "cell_type": "code",
      "execution_count": null,
      "metadata": {},
      "outputs": [],
      "source": []
    },
    {
      "cell_type": "code",
      "execution_count": null,
      "metadata": {},
      "outputs": [],
      "source": []
    },
    {
      "cell_type": "code",
      "execution_count": null,
      "metadata": {},
      "outputs": [],
      "source": []
    },
    {
      "cell_type": "code",
      "execution_count": null,
      "metadata": {},
      "outputs": [],
      "source": []
    },
    {
      "cell_type": "code",
      "execution_count": null,
      "metadata": {},
      "outputs": [],
      "source": []
    },
    {
      "cell_type": "code",
      "execution_count": null,
      "metadata": {},
      "outputs": [],
      "source": []
    },
    {
      "cell_type": "code",
      "execution_count": 130,
      "metadata": {},
      "outputs": [
        {
          "data": {
            "text/plain": [
              "tensor([1, 2])"
            ]
          },
          "execution_count": 130,
          "metadata": {},
          "output_type": "execute_result"
        }
      ],
      "source": [
        "torch.tensor(\n",
        "    [[1,2],\n",
        "    [3,4]]\n",
        ")[0]"
      ]
    },
    {
      "cell_type": "code",
      "execution_count": 129,
      "metadata": {},
      "outputs": [
        {
          "data": {
            "text/plain": [
              "tensor([1, 2])"
            ]
          },
          "execution_count": 129,
          "metadata": {},
          "output_type": "execute_result"
        }
      ],
      "source": [
        "torch.tensor([1,2,3,4])[:2]"
      ]
    },
    {
      "cell_type": "code",
      "execution_count": 132,
      "metadata": {},
      "outputs": [
        {
          "data": {
            "text/plain": [
              "tensor([[1, 2],\n",
              "        [3, 4]])"
            ]
          },
          "execution_count": 132,
          "metadata": {},
          "output_type": "execute_result"
        }
      ],
      "source": [
        "torch.tensor([1,2,3,4]).reshape((2,2))"
      ]
    },
    {
      "cell_type": "code",
      "execution_count": 134,
      "metadata": {},
      "outputs": [
        {
          "data": {
            "text/plain": [
              "tensor([[1, 3],\n",
              "        [2, 4]])"
            ]
          },
          "execution_count": 134,
          "metadata": {},
          "output_type": "execute_result"
        }
      ],
      "source": [
        "torch.tensor(\n",
        "    [[1,2],\n",
        "    [3,4]]\n",
        ").transpose(0,1)"
      ]
    },
    {
      "cell_type": "code",
      "execution_count": 136,
      "metadata": {},
      "outputs": [
        {
          "data": {
            "text/plain": [
              "tensor([1, 2, 3, 4])"
            ]
          },
          "execution_count": 136,
          "metadata": {},
          "output_type": "execute_result"
        }
      ],
      "source": [
        "a = torch.tensor([1,2])\n",
        "b = torch.tensor([3,4])\n",
        "torch.stack([a,b])"
      ]
    },
    {
      "cell_type": "code",
      "execution_count": null,
      "metadata": {},
      "outputs": [],
      "source": []
    },
    {
      "cell_type": "code",
      "execution_count": null,
      "metadata": {},
      "outputs": [],
      "source": []
    },
    {
      "cell_type": "code",
      "execution_count": null,
      "metadata": {},
      "outputs": [],
      "source": []
    },
    {
      "cell_type": "code",
      "execution_count": null,
      "metadata": {},
      "outputs": [],
      "source": []
    },
    {
      "cell_type": "code",
      "execution_count": null,
      "metadata": {},
      "outputs": [],
      "source": []
    },
    {
      "cell_type": "code",
      "execution_count": null,
      "metadata": {},
      "outputs": [],
      "source": []
    },
    {
      "cell_type": "code",
      "execution_count": null,
      "metadata": {},
      "outputs": [],
      "source": []
    },
    {
      "cell_type": "code",
      "execution_count": null,
      "metadata": {},
      "outputs": [],
      "source": [
        "class TextClassificationModel(nn.Module):\n",
        "    def __init__(self, vocab_size, embedding_dim, hidden_dim, output_dim):\n",
        "        super().__init__()\n",
        "        \n",
        "        # Embedding layer\n",
        "        self.embedding = nn.Embedding(vocab_size, embedding_dim)\n",
        "        \n",
        "        # Fully connected layer\n",
        "        self.fc = nn.Sequential(\n",
        "            nn.Linear(embedding_dim, hidden_dim),\n",
        "            nn.ReLU(),\n",
        "            nn.Linear(hidden_dim, output_dim)\n",
        "        )\n",
        "        \n",
        "    def forward(self, x):\n",
        "        x = self.embedding(x)\n",
        "        x = x.view(x.size(0), -1)  # Flatten the tensor\n",
        "        x = self.fc(x)\n",
        "        return x\n",
        "\n",
        "# Initialize the model\n",
        "vocab_size = len(vocab)\n",
        "embedding_dim = 100\n",
        "hidden_dim = 256\n",
        "output_dim = len(labels)\n",
        "model = TextClassificationModel(vocab_size, embedding_dim, hidden_dim, output_dim)\n"
      ]
    },
    {
      "cell_type": "code",
      "execution_count": null,
      "metadata": {},
      "outputs": [],
      "source": [
        "# split dataset into train, validation and test\n",
        "train_data = IMDB_DATASET['train']\n",
        "valid_data = IMDB_DATASET['train']\n",
        "unsupervised_data = IMDB_DATASET['validation']\n",
        "test_data = IMDB_DATASET['test']\n",
        "\n",
        "# convert the data to torch tensors\n",
        "train_inputs = torch.tensor(train_data[0], dtype=torch.long)\n",
        "train_labels = torch.tensor(train_data[1], dtype=torch.long)\n",
        "valid_inputs = torch.tensor(valid_data[0], dtype=torch.long)\n",
        "valid_labels = torch.tensor(valid_data[1], dtype=torch.long)\n",
        "test_inputs = torch.tensor(test_data[0], dtype=torch.long)\n",
        "test_labels = torch.tensor(test_data[1], dtype=torch.long)\n",
        "\n",
        "# create TensorDataset\n",
        "train_dataset = TensorDataset(train_inputs, train_labels)\n",
        "valid_dataset = TensorDataset(valid_inputs, valid_labels)\n",
        "test_dataset = TensorDataset(test_inputs, test_labels)\n",
        "\n",
        "# create dataloader\n",
        "batch_size = 32\n",
        "train_dataloader = DataLoader(train_dataset, batch_size=batch_size, shuffle=True)\n",
        "valid_dataloader = DataLoader(valid_dataset, batch_size=batch_size, shuffle=True)\n",
        "test_dataloader = DataLoader"
      ]
    },
    {
      "cell_type": "markdown",
      "metadata": {
        "id": "d3SscGWFvW61"
      },
      "source": [
        "# Model"
      ]
    },
    {
      "cell_type": "markdown",
      "metadata": {},
      "source": [
        "# "
      ]
    },
    {
      "cell_type": "code",
      "execution_count": null,
      "metadata": {},
      "outputs": [],
      "source": [
        "class TextClassificationModel(nn.Module):\n",
        "    def __init__(self, vocab_size, embedding_dim, hidden_dim, output_dim):\n",
        "        super().__init__()\n",
        "        \n",
        "        # Embedding layer\n",
        "        self.embedding = nn.Embedding(vocab_size, embedding_dim)\n",
        "        \n",
        "        # Fully connected layer\n",
        "        self.fc = nn.Sequential(\n",
        "            nn.Linear(embedding_dim, hidden_dim),\n",
        "            nn.ReLU(),\n",
        "            nn.Linear(hidden_dim, output_dim)\n",
        "        )\n",
        "        \n",
        "    def forward(self, x):\n",
        "        x = self.embedding(x)\n",
        "        x = x.view(x.size(0), -1)  # Flatten the tensor\n",
        "        x = self.fc(x)\n",
        "        return x\n",
        "\n",
        "# Initialize the model\n",
        "vocab_size = len(vocab)\n",
        "embedding_dim = 100\n",
        "hidden_dim = 256\n",
        "output_dim = len(labels)\n",
        "model = TextClassificationModel(vocab_size, embedding_dim, hidden_dim, output_dim)\n"
      ]
    },
    {
      "cell_type": "code",
      "execution_count": null,
      "metadata": {},
      "outputs": [],
      "source": []
    },
    {
      "cell_type": "code",
      "execution_count": null,
      "metadata": {
        "id": "Z5CTj-rsvYbx"
      },
      "outputs": [],
      "source": []
    },
    {
      "cell_type": "code",
      "execution_count": null,
      "metadata": {},
      "outputs": [],
      "source": []
    },
    {
      "cell_type": "code",
      "execution_count": null,
      "metadata": {},
      "outputs": [],
      "source": []
    },
    {
      "cell_type": "code",
      "execution_count": null,
      "metadata": {},
      "outputs": [],
      "source": []
    },
    {
      "cell_type": "code",
      "execution_count": null,
      "metadata": {},
      "outputs": [],
      "source": []
    },
    {
      "cell_type": "code",
      "execution_count": null,
      "metadata": {},
      "outputs": [],
      "source": []
    },
    {
      "cell_type": "code",
      "execution_count": null,
      "metadata": {},
      "outputs": [],
      "source": [
        "import torch\n",
        "import torch.nn as nn\n",
        "\n",
        "class SelfAttention(nn.Module):\n",
        "    def __init__(self, d_model, nhead):\n",
        "        super(SelfAttention, self).__init__()\n",
        "        self.d_model = d_model\n",
        "        self.nhead = nhead\n",
        "        self.query = nn.Linear(d_model, d_model)\n",
        "        self.key = nn.Linear(d_model, d_model)\n",
        "        self.value = nn.Linear(d_model, d_model)\n",
        "        self.softmax = nn.Softmax(dim=-1)\n",
        "\n",
        "    def forward(self, x):\n",
        "        # x is of shape (batch_size, seq_len, d_model)\n",
        "        query = self.query(x)  # (batch_size, seq_len, d_model)\n",
        "        key = self.key(x)  # (batch_size, seq_len, d_model)\n",
        "        value = self.value(x)  # (batch_size, seq_len, d_model)\n",
        "\n",
        "        # Compute the dot product between query and key\n",
        "        dot_product = torch.matmul(query, key.transpose(-1, -2))  # (batch_size, seq_len, seq_len)\n",
        "        \n",
        "        # Scale dot_product by d_model\n",
        "        dot_product = dot_product / (self.d_model ** 0.5)\n",
        "        \n",
        "        # Apply the softmax function to the dot product\n",
        "        attention = self.softmax(dot_product)  # (batch_size, seq_len, seq_len)\n",
        "\n",
        "        # Compute the weighted sum of the values using the attention scores\n",
        "        out = torch.matmul(attention, value)  # (batch_size, seq_len, d_model)\n",
        "        return out\n"
      ]
    },
    {
      "cell_type": "code",
      "execution_count": null,
      "metadata": {},
      "outputs": [],
      "source": [
        "import transformers\n",
        "from transformers import BertForSequenceClassification, AdamW, get_linear_schedule_with_warmup\n",
        "import torch\n",
        "\n",
        "# Load the BERT model\n",
        "model = BertForSequenceClassification.from_pretrained(\"bert-base-uncased\", num_labels=len(glue_tasks))\n",
        "\n",
        "# Set the device\n",
        "device = torch.device(\"cuda\" if torch.cuda.is_available() else \"cpu\")\n",
        "model.to(device)\n",
        "\n",
        "# Set the optimizer and schedule\n",
        "optimizer = AdamW(model.parameters(), lr=2e-5, eps=1e-8)\n",
        "epochs = 3\n",
        "total_steps = len(train_dataloader) * epochs\n",
        "scheduler = get_linear_schedule_with_warmup(optimizer, num_warmup_steps=0, num_training_steps=total_steps)\n",
        "\n",
        "# Loop over the data\n",
        "for epoch in range(epochs):\n",
        "    for step, batch in enumerate(train_dataloader):\n",
        "        # Move the data to the GPU\n",
        "        batch = tuple(t.to(device) for t in batch)\n",
        "        inputs = {\"input_ids\": batch[0], \"attention_mask\": batch[1], \"labels\": batch[3]}\n",
        "        model.train()\n",
        "        optimizer.zero_grad()\n",
        "        outputs = model(**inputs)\n",
        "        loss = outputs[0]\n",
        "        loss.backward()\n",
        "        optimizer.step()\n",
        "        scheduler.step()\n",
        "        \n",
        "    # Evaluation\n",
        "    model.eval()\n",
        "    eval_loss, eval_accuracy = 0, 0\n",
        "    nb_eval_steps, nb_eval_examples = 0, 0\n",
        "    for batch in eval_dataloader:\n",
        "        batch = tuple(t.to(device) for t in batch)\n",
        "        inputs = {\"input_ids\": batch[0], \"attention_mask\": batch[1], \"labels\": batch[3]}\n",
        "        with torch.no_grad():\n",
        "            outputs = model(**inputs)\n",
        "            tmp_eval_loss, logits = outputs[:2]\n",
        "            eval_loss += tmp_eval_loss.mean().item()\n",
        "        nb_eval_steps += 1\n",
        "        if preds is None:\n",
        "            preds = logits.detach().cpu().numpy()\n",
        "            out_label_ids = inputs['labels'].detach().cpu().numpy()\n",
        "        else:\n",
        "            preds = np.append(preds, logits.detach().cpu().numpy(), axis=0)\n",
        "            out_label_ids = np.append(out_label_ids, inputs['labels'].detach().cpu().numpy(), axis=0)\n",
        "    eval_loss = eval_loss / nb_eval_steps\n",
        "    preds = np.argmax(preds, axis=1)\n",
        "    result = compute_metrics(preds, out_label_ids)\n",
        "    print(f'Epoch {epoch+1} loss: {eval_loss}, acc: {result[\"acc\"]}')\n"
      ]
    }
  ],
  "metadata": {
    "colab": {
      "provenance": []
    },
    "gpuClass": "standard",
    "kernelspec": {
      "display_name": "Python 3.10.5 64-bit ('pytorch_1')",
      "language": "python",
      "name": "python3"
    },
    "language_info": {
      "codemirror_mode": {
        "name": "ipython",
        "version": 3
      },
      "file_extension": ".py",
      "mimetype": "text/x-python",
      "name": "python",
      "nbconvert_exporter": "python",
      "pygments_lexer": "ipython3",
      "version": "3.10.5"
    },
    "vscode": {
      "interpreter": {
        "hash": "d8d360e7c7d2a57b96b1fd1f3db2a7e7cffffe58fb2fb3aa8cedb08129f5b237"
      }
    }
  },
  "nbformat": 4,
  "nbformat_minor": 0
}
